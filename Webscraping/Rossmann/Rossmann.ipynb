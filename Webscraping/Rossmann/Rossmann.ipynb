{
 "cells": [
  {
   "cell_type": "code",
   "execution_count": 1,
   "metadata": {},
   "outputs": [],
   "source": [
    "import requests\n",
    "from bs4 import BeautifulSoup\n",
    "import pandas as pd\n",
    "from tqdm import tqdm\n",
    "import json\n",
    "import time"
   ]
  },
  {
   "cell_type": "markdown",
   "metadata": {},
   "source": [
    "## Below is the Lebensmittlel webscraping"
   ]
  },
  {
   "cell_type": "code",
   "execution_count": 2,
   "metadata": {},
   "outputs": [],
   "source": [
    "url = 'https://www.rossmann.de/de/lebensmittel/c/olcat1_4?q=%3Arelevance%3A&pageSize=60&page='"
   ]
  },
  {
   "cell_type": "code",
   "execution_count": 3,
   "metadata": {},
   "outputs": [
    {
     "name": "stderr",
     "output_type": "stream",
     "text": [
      "\r",
      "  0%|                                                                                           | 0/35 [00:00<?, ?it/s]"
     ]
    },
    {
     "name": "stdout",
     "output_type": "stream",
     "text": [
      "https://www.rossmann.de/de/lebensmittel/c/olcat1_4?q=%3Arelevance%3A&pageSize=60&page=0\n"
     ]
    },
    {
     "name": "stderr",
     "output_type": "stream",
     "text": [
      "\r",
      "  3%|██▎                                                                                | 1/35 [00:04<02:39,  4.69s/it]"
     ]
    },
    {
     "name": "stdout",
     "output_type": "stream",
     "text": [
      "https://www.rossmann.de/de/lebensmittel/c/olcat1_4?q=%3Arelevance%3A&pageSize=60&page=1\n"
     ]
    },
    {
     "name": "stderr",
     "output_type": "stream",
     "text": [
      "\r",
      "  6%|████▋                                                                              | 2/35 [00:06<01:46,  3.23s/it]"
     ]
    },
    {
     "name": "stdout",
     "output_type": "stream",
     "text": [
      "https://www.rossmann.de/de/lebensmittel/c/olcat1_4?q=%3Arelevance%3A&pageSize=60&page=2\n"
     ]
    },
    {
     "name": "stderr",
     "output_type": "stream",
     "text": [
      "\r",
      "  9%|███████                                                                            | 3/35 [00:08<01:20,  2.52s/it]"
     ]
    },
    {
     "name": "stdout",
     "output_type": "stream",
     "text": [
      "https://www.rossmann.de/de/lebensmittel/c/olcat1_4?q=%3Arelevance%3A&pageSize=60&page=3\n"
     ]
    },
    {
     "name": "stderr",
     "output_type": "stream",
     "text": [
      "\r",
      " 11%|█████████▍                                                                         | 4/35 [00:10<01:09,  2.23s/it]"
     ]
    },
    {
     "name": "stdout",
     "output_type": "stream",
     "text": [
      "https://www.rossmann.de/de/lebensmittel/c/olcat1_4?q=%3Arelevance%3A&pageSize=60&page=4\n"
     ]
    },
    {
     "name": "stderr",
     "output_type": "stream",
     "text": [
      "\r",
      " 14%|███████████▊                                                                       | 5/35 [00:11<00:59,  1.98s/it]"
     ]
    },
    {
     "name": "stdout",
     "output_type": "stream",
     "text": [
      "https://www.rossmann.de/de/lebensmittel/c/olcat1_4?q=%3Arelevance%3A&pageSize=60&page=5\n"
     ]
    },
    {
     "name": "stderr",
     "output_type": "stream",
     "text": [
      "\r",
      " 17%|██████████████▏                                                                    | 6/35 [00:13<00:56,  1.95s/it]"
     ]
    },
    {
     "name": "stdout",
     "output_type": "stream",
     "text": [
      "https://www.rossmann.de/de/lebensmittel/c/olcat1_4?q=%3Arelevance%3A&pageSize=60&page=6\n"
     ]
    },
    {
     "name": "stderr",
     "output_type": "stream",
     "text": [
      "\r",
      " 20%|████████████████▌                                                                  | 7/35 [00:15<00:51,  1.82s/it]"
     ]
    },
    {
     "name": "stdout",
     "output_type": "stream",
     "text": [
      "https://www.rossmann.de/de/lebensmittel/c/olcat1_4?q=%3Arelevance%3A&pageSize=60&page=7\n"
     ]
    },
    {
     "name": "stderr",
     "output_type": "stream",
     "text": [
      "\r",
      " 23%|██████████████████▉                                                                | 8/35 [00:17<00:48,  1.81s/it]"
     ]
    },
    {
     "name": "stdout",
     "output_type": "stream",
     "text": [
      "https://www.rossmann.de/de/lebensmittel/c/olcat1_4?q=%3Arelevance%3A&pageSize=60&page=8\n"
     ]
    },
    {
     "name": "stderr",
     "output_type": "stream",
     "text": [
      "\r",
      " 26%|█████████████████████▎                                                             | 9/35 [00:18<00:45,  1.76s/it]"
     ]
    },
    {
     "name": "stdout",
     "output_type": "stream",
     "text": [
      "https://www.rossmann.de/de/lebensmittel/c/olcat1_4?q=%3Arelevance%3A&pageSize=60&page=9\n"
     ]
    },
    {
     "name": "stderr",
     "output_type": "stream",
     "text": [
      "\r",
      " 29%|███████████████████████▍                                                          | 10/35 [00:20<00:42,  1.69s/it]"
     ]
    },
    {
     "name": "stdout",
     "output_type": "stream",
     "text": [
      "https://www.rossmann.de/de/lebensmittel/c/olcat1_4?q=%3Arelevance%3A&pageSize=60&page=10\n"
     ]
    },
    {
     "name": "stderr",
     "output_type": "stream",
     "text": [
      "\r",
      " 31%|█████████████████████████▊                                                        | 11/35 [00:22<00:41,  1.71s/it]"
     ]
    },
    {
     "name": "stdout",
     "output_type": "stream",
     "text": [
      "https://www.rossmann.de/de/lebensmittel/c/olcat1_4?q=%3Arelevance%3A&pageSize=60&page=11\n"
     ]
    },
    {
     "name": "stderr",
     "output_type": "stream",
     "text": [
      "\r",
      " 34%|████████████████████████████                                                      | 12/35 [00:23<00:39,  1.72s/it]"
     ]
    },
    {
     "name": "stdout",
     "output_type": "stream",
     "text": [
      "https://www.rossmann.de/de/lebensmittel/c/olcat1_4?q=%3Arelevance%3A&pageSize=60&page=12\n"
     ]
    },
    {
     "name": "stderr",
     "output_type": "stream",
     "text": [
      "\r",
      " 37%|██████████████████████████████▍                                                   | 13/35 [00:25<00:36,  1.65s/it]"
     ]
    },
    {
     "name": "stdout",
     "output_type": "stream",
     "text": [
      "https://www.rossmann.de/de/lebensmittel/c/olcat1_4?q=%3Arelevance%3A&pageSize=60&page=13\n"
     ]
    },
    {
     "name": "stderr",
     "output_type": "stream",
     "text": [
      "\r",
      " 40%|████████████████████████████████▊                                                 | 14/35 [00:27<00:35,  1.68s/it]"
     ]
    },
    {
     "name": "stdout",
     "output_type": "stream",
     "text": [
      "https://www.rossmann.de/de/lebensmittel/c/olcat1_4?q=%3Arelevance%3A&pageSize=60&page=14\n"
     ]
    },
    {
     "name": "stderr",
     "output_type": "stream",
     "text": [
      "\r",
      " 43%|███████████████████████████████████▏                                              | 15/35 [00:28<00:32,  1.63s/it]"
     ]
    },
    {
     "name": "stdout",
     "output_type": "stream",
     "text": [
      "https://www.rossmann.de/de/lebensmittel/c/olcat1_4?q=%3Arelevance%3A&pageSize=60&page=15\n"
     ]
    },
    {
     "name": "stderr",
     "output_type": "stream",
     "text": [
      "\r",
      " 46%|█████████████████████████████████████▍                                            | 16/35 [00:33<00:47,  2.48s/it]"
     ]
    },
    {
     "name": "stdout",
     "output_type": "stream",
     "text": [
      "https://www.rossmann.de/de/lebensmittel/c/olcat1_4?q=%3Arelevance%3A&pageSize=60&page=16\n"
     ]
    },
    {
     "name": "stderr",
     "output_type": "stream",
     "text": [
      "\r",
      " 49%|███████████████████████████████████████▊                                          | 17/35 [00:35<00:47,  2.62s/it]"
     ]
    },
    {
     "name": "stdout",
     "output_type": "stream",
     "text": [
      "https://www.rossmann.de/de/lebensmittel/c/olcat1_4?q=%3Arelevance%3A&pageSize=60&page=17\n"
     ]
    },
    {
     "name": "stderr",
     "output_type": "stream",
     "text": [
      "\r",
      " 51%|██████████████████████████████████████████▏                                       | 18/35 [00:37<00:39,  2.31s/it]"
     ]
    },
    {
     "name": "stdout",
     "output_type": "stream",
     "text": [
      "https://www.rossmann.de/de/lebensmittel/c/olcat1_4?q=%3Arelevance%3A&pageSize=60&page=18\n"
     ]
    },
    {
     "name": "stderr",
     "output_type": "stream",
     "text": [
      "\r",
      " 54%|████████████████████████████████████████████▌                                     | 19/35 [00:39<00:35,  2.20s/it]"
     ]
    },
    {
     "name": "stdout",
     "output_type": "stream",
     "text": [
      "https://www.rossmann.de/de/lebensmittel/c/olcat1_4?q=%3Arelevance%3A&pageSize=60&page=19\n"
     ]
    },
    {
     "name": "stderr",
     "output_type": "stream",
     "text": [
      "\r",
      " 57%|██████████████████████████████████████████████▊                                   | 20/35 [00:43<00:39,  2.62s/it]"
     ]
    },
    {
     "name": "stdout",
     "output_type": "stream",
     "text": [
      "https://www.rossmann.de/de/lebensmittel/c/olcat1_4?q=%3Arelevance%3A&pageSize=60&page=20\n"
     ]
    },
    {
     "name": "stderr",
     "output_type": "stream",
     "text": [
      "\r",
      " 60%|█████████████████████████████████████████████████▏                                | 21/35 [00:48<00:47,  3.36s/it]"
     ]
    },
    {
     "name": "stdout",
     "output_type": "stream",
     "text": [
      "https://www.rossmann.de/de/lebensmittel/c/olcat1_4?q=%3Arelevance%3A&pageSize=60&page=21\n"
     ]
    },
    {
     "name": "stderr",
     "output_type": "stream",
     "text": [
      "\r",
      " 63%|███████████████████████████████████████████████████▌                              | 22/35 [00:51<00:44,  3.43s/it]"
     ]
    },
    {
     "name": "stdout",
     "output_type": "stream",
     "text": [
      "https://www.rossmann.de/de/lebensmittel/c/olcat1_4?q=%3Arelevance%3A&pageSize=60&page=22\n"
     ]
    },
    {
     "name": "stderr",
     "output_type": "stream",
     "text": [
      "\r",
      " 66%|█████████████████████████████████████████████████████▉                            | 23/35 [01:01<01:02,  5.21s/it]"
     ]
    },
    {
     "name": "stdout",
     "output_type": "stream",
     "text": [
      "https://www.rossmann.de/de/lebensmittel/c/olcat1_4?q=%3Arelevance%3A&pageSize=60&page=23\n"
     ]
    },
    {
     "name": "stderr",
     "output_type": "stream",
     "text": [
      "\r",
      " 69%|████████████████████████████████████████████████████████▏                         | 24/35 [01:03<00:47,  4.33s/it]"
     ]
    },
    {
     "name": "stdout",
     "output_type": "stream",
     "text": [
      "https://www.rossmann.de/de/lebensmittel/c/olcat1_4?q=%3Arelevance%3A&pageSize=60&page=24\n"
     ]
    },
    {
     "name": "stderr",
     "output_type": "stream",
     "text": [
      "\r",
      " 71%|██████████████████████████████████████████████████████████▌                       | 25/35 [01:04<00:34,  3.50s/it]"
     ]
    },
    {
     "name": "stdout",
     "output_type": "stream",
     "text": [
      "https://www.rossmann.de/de/lebensmittel/c/olcat1_4?q=%3Arelevance%3A&pageSize=60&page=25\n"
     ]
    },
    {
     "name": "stderr",
     "output_type": "stream",
     "text": [
      "\r",
      " 74%|████████████████████████████████████████████████████████████▉                     | 26/35 [01:06<00:26,  2.99s/it]"
     ]
    },
    {
     "name": "stdout",
     "output_type": "stream",
     "text": [
      "https://www.rossmann.de/de/lebensmittel/c/olcat1_4?q=%3Arelevance%3A&pageSize=60&page=26\n"
     ]
    },
    {
     "name": "stderr",
     "output_type": "stream",
     "text": [
      "\r",
      " 77%|███████████████████████████████████████████████████████████████▎                  | 27/35 [01:08<00:20,  2.59s/it]"
     ]
    },
    {
     "name": "stdout",
     "output_type": "stream",
     "text": [
      "https://www.rossmann.de/de/lebensmittel/c/olcat1_4?q=%3Arelevance%3A&pageSize=60&page=27\n"
     ]
    },
    {
     "name": "stderr",
     "output_type": "stream",
     "text": [
      "\r",
      " 80%|█████████████████████████████████████████████████████████████████▌                | 28/35 [01:09<00:15,  2.27s/it]"
     ]
    },
    {
     "name": "stdout",
     "output_type": "stream",
     "text": [
      "https://www.rossmann.de/de/lebensmittel/c/olcat1_4?q=%3Arelevance%3A&pageSize=60&page=28\n"
     ]
    },
    {
     "name": "stderr",
     "output_type": "stream",
     "text": [
      "\r",
      " 83%|███████████████████████████████████████████████████████████████████▉              | 29/35 [01:11<00:12,  2.12s/it]"
     ]
    },
    {
     "name": "stdout",
     "output_type": "stream",
     "text": [
      "https://www.rossmann.de/de/lebensmittel/c/olcat1_4?q=%3Arelevance%3A&pageSize=60&page=29\n"
     ]
    },
    {
     "name": "stderr",
     "output_type": "stream",
     "text": [
      "\r",
      " 86%|██████████████████████████████████████████████████████████████████████▎           | 30/35 [01:14<00:11,  2.23s/it]"
     ]
    },
    {
     "name": "stdout",
     "output_type": "stream",
     "text": [
      "https://www.rossmann.de/de/lebensmittel/c/olcat1_4?q=%3Arelevance%3A&pageSize=60&page=30\n"
     ]
    },
    {
     "name": "stderr",
     "output_type": "stream",
     "text": [
      "\r",
      " 89%|████████████████████████████████████████████████████████████████████████▋         | 31/35 [01:15<00:08,  2.08s/it]"
     ]
    },
    {
     "name": "stdout",
     "output_type": "stream",
     "text": [
      "https://www.rossmann.de/de/lebensmittel/c/olcat1_4?q=%3Arelevance%3A&pageSize=60&page=31\n"
     ]
    },
    {
     "name": "stderr",
     "output_type": "stream",
     "text": [
      " 91%|██████████████████████████████████████████████████████████████████████████▉       | 32/35 [01:38<00:09,  3.09s/it]\n"
     ]
    },
    {
     "ename": "ConnectTimeout",
     "evalue": "HTTPSConnectionPool(host='www.rossmann.de', port=443): Max retries exceeded with url: /de/lebensmittel/c/olcat1_4?q=%3Arelevance%3A&pageSize=60&page=32 (Caused by ConnectTimeoutError(<urllib3.connection.HTTPSConnection object at 0x000002529FC3DD50>, 'Connection to www.rossmann.de timed out. (connect timeout=None)'))",
     "output_type": "error",
     "traceback": [
      "\u001b[1;31m---------------------------------------------------------------------------\u001b[0m",
      "\u001b[1;31mTimeoutError\u001b[0m                              Traceback (most recent call last)",
      "File \u001b[1;32mC:\\ProgramData\\anaconda3\\Lib\\site-packages\\urllib3\\connection.py:174\u001b[0m, in \u001b[0;36mHTTPConnection._new_conn\u001b[1;34m(self)\u001b[0m\n\u001b[0;32m    173\u001b[0m \u001b[38;5;28;01mtry\u001b[39;00m:\n\u001b[1;32m--> 174\u001b[0m     conn \u001b[38;5;241m=\u001b[39m connection\u001b[38;5;241m.\u001b[39mcreate_connection(\n\u001b[0;32m    175\u001b[0m         (\u001b[38;5;28mself\u001b[39m\u001b[38;5;241m.\u001b[39m_dns_host, \u001b[38;5;28mself\u001b[39m\u001b[38;5;241m.\u001b[39mport), \u001b[38;5;28mself\u001b[39m\u001b[38;5;241m.\u001b[39mtimeout, \u001b[38;5;241m*\u001b[39m\u001b[38;5;241m*\u001b[39mextra_kw\n\u001b[0;32m    176\u001b[0m     )\n\u001b[0;32m    178\u001b[0m \u001b[38;5;28;01mexcept\u001b[39;00m SocketTimeout:\n",
      "File \u001b[1;32mC:\\ProgramData\\anaconda3\\Lib\\site-packages\\urllib3\\util\\connection.py:95\u001b[0m, in \u001b[0;36mcreate_connection\u001b[1;34m(address, timeout, source_address, socket_options)\u001b[0m\n\u001b[0;32m     94\u001b[0m \u001b[38;5;28;01mif\u001b[39;00m err \u001b[38;5;129;01mis\u001b[39;00m \u001b[38;5;129;01mnot\u001b[39;00m \u001b[38;5;28;01mNone\u001b[39;00m:\n\u001b[1;32m---> 95\u001b[0m     \u001b[38;5;28;01mraise\u001b[39;00m err\n\u001b[0;32m     97\u001b[0m \u001b[38;5;28;01mraise\u001b[39;00m socket\u001b[38;5;241m.\u001b[39merror(\u001b[38;5;124m\"\u001b[39m\u001b[38;5;124mgetaddrinfo returns an empty list\u001b[39m\u001b[38;5;124m\"\u001b[39m)\n",
      "File \u001b[1;32mC:\\ProgramData\\anaconda3\\Lib\\site-packages\\urllib3\\util\\connection.py:85\u001b[0m, in \u001b[0;36mcreate_connection\u001b[1;34m(address, timeout, source_address, socket_options)\u001b[0m\n\u001b[0;32m     84\u001b[0m     sock\u001b[38;5;241m.\u001b[39mbind(source_address)\n\u001b[1;32m---> 85\u001b[0m sock\u001b[38;5;241m.\u001b[39mconnect(sa)\n\u001b[0;32m     86\u001b[0m \u001b[38;5;28;01mreturn\u001b[39;00m sock\n",
      "\u001b[1;31mTimeoutError\u001b[0m: [WinError 10060] A connection attempt failed because the connected party did not properly respond after a period of time, or established connection failed because connected host has failed to respond",
      "\nDuring handling of the above exception, another exception occurred:\n",
      "\u001b[1;31mConnectTimeoutError\u001b[0m                       Traceback (most recent call last)",
      "File \u001b[1;32mC:\\ProgramData\\anaconda3\\Lib\\site-packages\\urllib3\\connectionpool.py:714\u001b[0m, in \u001b[0;36mHTTPConnectionPool.urlopen\u001b[1;34m(self, method, url, body, headers, retries, redirect, assert_same_host, timeout, pool_timeout, release_conn, chunked, body_pos, **response_kw)\u001b[0m\n\u001b[0;32m    713\u001b[0m \u001b[38;5;66;03m# Make the request on the httplib connection object.\u001b[39;00m\n\u001b[1;32m--> 714\u001b[0m httplib_response \u001b[38;5;241m=\u001b[39m \u001b[38;5;28mself\u001b[39m\u001b[38;5;241m.\u001b[39m_make_request(\n\u001b[0;32m    715\u001b[0m     conn,\n\u001b[0;32m    716\u001b[0m     method,\n\u001b[0;32m    717\u001b[0m     url,\n\u001b[0;32m    718\u001b[0m     timeout\u001b[38;5;241m=\u001b[39mtimeout_obj,\n\u001b[0;32m    719\u001b[0m     body\u001b[38;5;241m=\u001b[39mbody,\n\u001b[0;32m    720\u001b[0m     headers\u001b[38;5;241m=\u001b[39mheaders,\n\u001b[0;32m    721\u001b[0m     chunked\u001b[38;5;241m=\u001b[39mchunked,\n\u001b[0;32m    722\u001b[0m )\n\u001b[0;32m    724\u001b[0m \u001b[38;5;66;03m# If we're going to release the connection in ``finally:``, then\u001b[39;00m\n\u001b[0;32m    725\u001b[0m \u001b[38;5;66;03m# the response doesn't need to know about the connection. Otherwise\u001b[39;00m\n\u001b[0;32m    726\u001b[0m \u001b[38;5;66;03m# it will also try to release it and we'll have a double-release\u001b[39;00m\n\u001b[0;32m    727\u001b[0m \u001b[38;5;66;03m# mess.\u001b[39;00m\n",
      "File \u001b[1;32mC:\\ProgramData\\anaconda3\\Lib\\site-packages\\urllib3\\connectionpool.py:403\u001b[0m, in \u001b[0;36mHTTPConnectionPool._make_request\u001b[1;34m(self, conn, method, url, timeout, chunked, **httplib_request_kw)\u001b[0m\n\u001b[0;32m    402\u001b[0m \u001b[38;5;28;01mtry\u001b[39;00m:\n\u001b[1;32m--> 403\u001b[0m     \u001b[38;5;28mself\u001b[39m\u001b[38;5;241m.\u001b[39m_validate_conn(conn)\n\u001b[0;32m    404\u001b[0m \u001b[38;5;28;01mexcept\u001b[39;00m (SocketTimeout, BaseSSLError) \u001b[38;5;28;01mas\u001b[39;00m e:\n\u001b[0;32m    405\u001b[0m     \u001b[38;5;66;03m# Py2 raises this as a BaseSSLError, Py3 raises it as socket timeout.\u001b[39;00m\n",
      "File \u001b[1;32mC:\\ProgramData\\anaconda3\\Lib\\site-packages\\urllib3\\connectionpool.py:1053\u001b[0m, in \u001b[0;36mHTTPSConnectionPool._validate_conn\u001b[1;34m(self, conn)\u001b[0m\n\u001b[0;32m   1052\u001b[0m \u001b[38;5;28;01mif\u001b[39;00m \u001b[38;5;129;01mnot\u001b[39;00m \u001b[38;5;28mgetattr\u001b[39m(conn, \u001b[38;5;124m\"\u001b[39m\u001b[38;5;124msock\u001b[39m\u001b[38;5;124m\"\u001b[39m, \u001b[38;5;28;01mNone\u001b[39;00m):  \u001b[38;5;66;03m# AppEngine might not have  `.sock`\u001b[39;00m\n\u001b[1;32m-> 1053\u001b[0m     conn\u001b[38;5;241m.\u001b[39mconnect()\n\u001b[0;32m   1055\u001b[0m \u001b[38;5;28;01mif\u001b[39;00m \u001b[38;5;129;01mnot\u001b[39;00m conn\u001b[38;5;241m.\u001b[39mis_verified:\n",
      "File \u001b[1;32mC:\\ProgramData\\anaconda3\\Lib\\site-packages\\urllib3\\connection.py:363\u001b[0m, in \u001b[0;36mHTTPSConnection.connect\u001b[1;34m(self)\u001b[0m\n\u001b[0;32m    361\u001b[0m \u001b[38;5;28;01mdef\u001b[39;00m \u001b[38;5;21mconnect\u001b[39m(\u001b[38;5;28mself\u001b[39m):\n\u001b[0;32m    362\u001b[0m     \u001b[38;5;66;03m# Add certificate verification\u001b[39;00m\n\u001b[1;32m--> 363\u001b[0m     \u001b[38;5;28mself\u001b[39m\u001b[38;5;241m.\u001b[39msock \u001b[38;5;241m=\u001b[39m conn \u001b[38;5;241m=\u001b[39m \u001b[38;5;28mself\u001b[39m\u001b[38;5;241m.\u001b[39m_new_conn()\n\u001b[0;32m    364\u001b[0m     hostname \u001b[38;5;241m=\u001b[39m \u001b[38;5;28mself\u001b[39m\u001b[38;5;241m.\u001b[39mhost\n",
      "File \u001b[1;32mC:\\ProgramData\\anaconda3\\Lib\\site-packages\\urllib3\\connection.py:179\u001b[0m, in \u001b[0;36mHTTPConnection._new_conn\u001b[1;34m(self)\u001b[0m\n\u001b[0;32m    178\u001b[0m \u001b[38;5;28;01mexcept\u001b[39;00m SocketTimeout:\n\u001b[1;32m--> 179\u001b[0m     \u001b[38;5;28;01mraise\u001b[39;00m ConnectTimeoutError(\n\u001b[0;32m    180\u001b[0m         \u001b[38;5;28mself\u001b[39m,\n\u001b[0;32m    181\u001b[0m         \u001b[38;5;124m\"\u001b[39m\u001b[38;5;124mConnection to \u001b[39m\u001b[38;5;132;01m%s\u001b[39;00m\u001b[38;5;124m timed out. (connect timeout=\u001b[39m\u001b[38;5;132;01m%s\u001b[39;00m\u001b[38;5;124m)\u001b[39m\u001b[38;5;124m\"\u001b[39m\n\u001b[0;32m    182\u001b[0m         \u001b[38;5;241m%\u001b[39m (\u001b[38;5;28mself\u001b[39m\u001b[38;5;241m.\u001b[39mhost, \u001b[38;5;28mself\u001b[39m\u001b[38;5;241m.\u001b[39mtimeout),\n\u001b[0;32m    183\u001b[0m     )\n\u001b[0;32m    185\u001b[0m \u001b[38;5;28;01mexcept\u001b[39;00m SocketError \u001b[38;5;28;01mas\u001b[39;00m e:\n",
      "\u001b[1;31mConnectTimeoutError\u001b[0m: (<urllib3.connection.HTTPSConnection object at 0x000002529FC3DD50>, 'Connection to www.rossmann.de timed out. (connect timeout=None)')",
      "\nDuring handling of the above exception, another exception occurred:\n",
      "\u001b[1;31mMaxRetryError\u001b[0m                             Traceback (most recent call last)",
      "File \u001b[1;32mC:\\ProgramData\\anaconda3\\Lib\\site-packages\\requests\\adapters.py:486\u001b[0m, in \u001b[0;36mHTTPAdapter.send\u001b[1;34m(self, request, stream, timeout, verify, cert, proxies)\u001b[0m\n\u001b[0;32m    485\u001b[0m \u001b[38;5;28;01mtry\u001b[39;00m:\n\u001b[1;32m--> 486\u001b[0m     resp \u001b[38;5;241m=\u001b[39m conn\u001b[38;5;241m.\u001b[39murlopen(\n\u001b[0;32m    487\u001b[0m         method\u001b[38;5;241m=\u001b[39mrequest\u001b[38;5;241m.\u001b[39mmethod,\n\u001b[0;32m    488\u001b[0m         url\u001b[38;5;241m=\u001b[39murl,\n\u001b[0;32m    489\u001b[0m         body\u001b[38;5;241m=\u001b[39mrequest\u001b[38;5;241m.\u001b[39mbody,\n\u001b[0;32m    490\u001b[0m         headers\u001b[38;5;241m=\u001b[39mrequest\u001b[38;5;241m.\u001b[39mheaders,\n\u001b[0;32m    491\u001b[0m         redirect\u001b[38;5;241m=\u001b[39m\u001b[38;5;28;01mFalse\u001b[39;00m,\n\u001b[0;32m    492\u001b[0m         assert_same_host\u001b[38;5;241m=\u001b[39m\u001b[38;5;28;01mFalse\u001b[39;00m,\n\u001b[0;32m    493\u001b[0m         preload_content\u001b[38;5;241m=\u001b[39m\u001b[38;5;28;01mFalse\u001b[39;00m,\n\u001b[0;32m    494\u001b[0m         decode_content\u001b[38;5;241m=\u001b[39m\u001b[38;5;28;01mFalse\u001b[39;00m,\n\u001b[0;32m    495\u001b[0m         retries\u001b[38;5;241m=\u001b[39m\u001b[38;5;28mself\u001b[39m\u001b[38;5;241m.\u001b[39mmax_retries,\n\u001b[0;32m    496\u001b[0m         timeout\u001b[38;5;241m=\u001b[39mtimeout,\n\u001b[0;32m    497\u001b[0m         chunked\u001b[38;5;241m=\u001b[39mchunked,\n\u001b[0;32m    498\u001b[0m     )\n\u001b[0;32m    500\u001b[0m \u001b[38;5;28;01mexcept\u001b[39;00m (ProtocolError, \u001b[38;5;167;01mOSError\u001b[39;00m) \u001b[38;5;28;01mas\u001b[39;00m err:\n",
      "File \u001b[1;32mC:\\ProgramData\\anaconda3\\Lib\\site-packages\\urllib3\\connectionpool.py:798\u001b[0m, in \u001b[0;36mHTTPConnectionPool.urlopen\u001b[1;34m(self, method, url, body, headers, retries, redirect, assert_same_host, timeout, pool_timeout, release_conn, chunked, body_pos, **response_kw)\u001b[0m\n\u001b[0;32m    796\u001b[0m     e \u001b[38;5;241m=\u001b[39m ProtocolError(\u001b[38;5;124m\"\u001b[39m\u001b[38;5;124mConnection aborted.\u001b[39m\u001b[38;5;124m\"\u001b[39m, e)\n\u001b[1;32m--> 798\u001b[0m retries \u001b[38;5;241m=\u001b[39m retries\u001b[38;5;241m.\u001b[39mincrement(\n\u001b[0;32m    799\u001b[0m     method, url, error\u001b[38;5;241m=\u001b[39me, _pool\u001b[38;5;241m=\u001b[39m\u001b[38;5;28mself\u001b[39m, _stacktrace\u001b[38;5;241m=\u001b[39msys\u001b[38;5;241m.\u001b[39mexc_info()[\u001b[38;5;241m2\u001b[39m]\n\u001b[0;32m    800\u001b[0m )\n\u001b[0;32m    801\u001b[0m retries\u001b[38;5;241m.\u001b[39msleep()\n",
      "File \u001b[1;32mC:\\ProgramData\\anaconda3\\Lib\\site-packages\\urllib3\\util\\retry.py:592\u001b[0m, in \u001b[0;36mRetry.increment\u001b[1;34m(self, method, url, response, error, _pool, _stacktrace)\u001b[0m\n\u001b[0;32m    591\u001b[0m \u001b[38;5;28;01mif\u001b[39;00m new_retry\u001b[38;5;241m.\u001b[39mis_exhausted():\n\u001b[1;32m--> 592\u001b[0m     \u001b[38;5;28;01mraise\u001b[39;00m MaxRetryError(_pool, url, error \u001b[38;5;129;01mor\u001b[39;00m ResponseError(cause))\n\u001b[0;32m    594\u001b[0m log\u001b[38;5;241m.\u001b[39mdebug(\u001b[38;5;124m\"\u001b[39m\u001b[38;5;124mIncremented Retry for (url=\u001b[39m\u001b[38;5;124m'\u001b[39m\u001b[38;5;132;01m%s\u001b[39;00m\u001b[38;5;124m'\u001b[39m\u001b[38;5;124m): \u001b[39m\u001b[38;5;132;01m%r\u001b[39;00m\u001b[38;5;124m\"\u001b[39m, url, new_retry)\n",
      "\u001b[1;31mMaxRetryError\u001b[0m: HTTPSConnectionPool(host='www.rossmann.de', port=443): Max retries exceeded with url: /de/lebensmittel/c/olcat1_4?q=%3Arelevance%3A&pageSize=60&page=32 (Caused by ConnectTimeoutError(<urllib3.connection.HTTPSConnection object at 0x000002529FC3DD50>, 'Connection to www.rossmann.de timed out. (connect timeout=None)'))",
      "\nDuring handling of the above exception, another exception occurred:\n",
      "\u001b[1;31mConnectTimeout\u001b[0m                            Traceback (most recent call last)",
      "Cell \u001b[1;32mIn[3], line 4\u001b[0m\n\u001b[0;32m      1\u001b[0m all_links \u001b[38;5;241m=\u001b[39m []\n\u001b[0;32m      3\u001b[0m \u001b[38;5;28;01mfor\u001b[39;00m p \u001b[38;5;129;01min\u001b[39;00m tqdm(\u001b[38;5;28mrange\u001b[39m(\u001b[38;5;241m0\u001b[39m, \u001b[38;5;241m35\u001b[39m)): \u001b[38;5;66;03m#35#48\u001b[39;00m\n\u001b[1;32m----> 4\u001b[0m     resp \u001b[38;5;241m=\u001b[39m requests\u001b[38;5;241m.\u001b[39mget(url \u001b[38;5;241m+\u001b[39m \u001b[38;5;28mstr\u001b[39m(p))\n\u001b[0;32m      5\u001b[0m     \u001b[38;5;28mprint\u001b[39m (url \u001b[38;5;241m+\u001b[39m \u001b[38;5;28mstr\u001b[39m(p))\n\u001b[0;32m      6\u001b[0m     soup \u001b[38;5;241m=\u001b[39m BeautifulSoup(resp\u001b[38;5;241m.\u001b[39mtext)\n",
      "File \u001b[1;32mC:\\ProgramData\\anaconda3\\Lib\\site-packages\\requests\\api.py:73\u001b[0m, in \u001b[0;36mget\u001b[1;34m(url, params, **kwargs)\u001b[0m\n\u001b[0;32m     62\u001b[0m \u001b[38;5;28;01mdef\u001b[39;00m \u001b[38;5;21mget\u001b[39m(url, params\u001b[38;5;241m=\u001b[39m\u001b[38;5;28;01mNone\u001b[39;00m, \u001b[38;5;241m*\u001b[39m\u001b[38;5;241m*\u001b[39mkwargs):\n\u001b[0;32m     63\u001b[0m \u001b[38;5;250m    \u001b[39m\u001b[38;5;124mr\u001b[39m\u001b[38;5;124;03m\"\"\"Sends a GET request.\u001b[39;00m\n\u001b[0;32m     64\u001b[0m \n\u001b[0;32m     65\u001b[0m \u001b[38;5;124;03m    :param url: URL for the new :class:`Request` object.\u001b[39;00m\n\u001b[1;32m   (...)\u001b[0m\n\u001b[0;32m     70\u001b[0m \u001b[38;5;124;03m    :rtype: requests.Response\u001b[39;00m\n\u001b[0;32m     71\u001b[0m \u001b[38;5;124;03m    \"\"\"\u001b[39;00m\n\u001b[1;32m---> 73\u001b[0m     \u001b[38;5;28;01mreturn\u001b[39;00m request(\u001b[38;5;124m\"\u001b[39m\u001b[38;5;124mget\u001b[39m\u001b[38;5;124m\"\u001b[39m, url, params\u001b[38;5;241m=\u001b[39mparams, \u001b[38;5;241m*\u001b[39m\u001b[38;5;241m*\u001b[39mkwargs)\n",
      "File \u001b[1;32mC:\\ProgramData\\anaconda3\\Lib\\site-packages\\requests\\api.py:59\u001b[0m, in \u001b[0;36mrequest\u001b[1;34m(method, url, **kwargs)\u001b[0m\n\u001b[0;32m     55\u001b[0m \u001b[38;5;66;03m# By using the 'with' statement we are sure the session is closed, thus we\u001b[39;00m\n\u001b[0;32m     56\u001b[0m \u001b[38;5;66;03m# avoid leaving sockets open which can trigger a ResourceWarning in some\u001b[39;00m\n\u001b[0;32m     57\u001b[0m \u001b[38;5;66;03m# cases, and look like a memory leak in others.\u001b[39;00m\n\u001b[0;32m     58\u001b[0m \u001b[38;5;28;01mwith\u001b[39;00m sessions\u001b[38;5;241m.\u001b[39mSession() \u001b[38;5;28;01mas\u001b[39;00m session:\n\u001b[1;32m---> 59\u001b[0m     \u001b[38;5;28;01mreturn\u001b[39;00m session\u001b[38;5;241m.\u001b[39mrequest(method\u001b[38;5;241m=\u001b[39mmethod, url\u001b[38;5;241m=\u001b[39murl, \u001b[38;5;241m*\u001b[39m\u001b[38;5;241m*\u001b[39mkwargs)\n",
      "File \u001b[1;32mC:\\ProgramData\\anaconda3\\Lib\\site-packages\\requests\\sessions.py:589\u001b[0m, in \u001b[0;36mSession.request\u001b[1;34m(self, method, url, params, data, headers, cookies, files, auth, timeout, allow_redirects, proxies, hooks, stream, verify, cert, json)\u001b[0m\n\u001b[0;32m    584\u001b[0m send_kwargs \u001b[38;5;241m=\u001b[39m {\n\u001b[0;32m    585\u001b[0m     \u001b[38;5;124m\"\u001b[39m\u001b[38;5;124mtimeout\u001b[39m\u001b[38;5;124m\"\u001b[39m: timeout,\n\u001b[0;32m    586\u001b[0m     \u001b[38;5;124m\"\u001b[39m\u001b[38;5;124mallow_redirects\u001b[39m\u001b[38;5;124m\"\u001b[39m: allow_redirects,\n\u001b[0;32m    587\u001b[0m }\n\u001b[0;32m    588\u001b[0m send_kwargs\u001b[38;5;241m.\u001b[39mupdate(settings)\n\u001b[1;32m--> 589\u001b[0m resp \u001b[38;5;241m=\u001b[39m \u001b[38;5;28mself\u001b[39m\u001b[38;5;241m.\u001b[39msend(prep, \u001b[38;5;241m*\u001b[39m\u001b[38;5;241m*\u001b[39msend_kwargs)\n\u001b[0;32m    591\u001b[0m \u001b[38;5;28;01mreturn\u001b[39;00m resp\n",
      "File \u001b[1;32mC:\\ProgramData\\anaconda3\\Lib\\site-packages\\requests\\sessions.py:703\u001b[0m, in \u001b[0;36mSession.send\u001b[1;34m(self, request, **kwargs)\u001b[0m\n\u001b[0;32m    700\u001b[0m start \u001b[38;5;241m=\u001b[39m preferred_clock()\n\u001b[0;32m    702\u001b[0m \u001b[38;5;66;03m# Send the request\u001b[39;00m\n\u001b[1;32m--> 703\u001b[0m r \u001b[38;5;241m=\u001b[39m adapter\u001b[38;5;241m.\u001b[39msend(request, \u001b[38;5;241m*\u001b[39m\u001b[38;5;241m*\u001b[39mkwargs)\n\u001b[0;32m    705\u001b[0m \u001b[38;5;66;03m# Total elapsed time of the request (approximately)\u001b[39;00m\n\u001b[0;32m    706\u001b[0m elapsed \u001b[38;5;241m=\u001b[39m preferred_clock() \u001b[38;5;241m-\u001b[39m start\n",
      "File \u001b[1;32mC:\\ProgramData\\anaconda3\\Lib\\site-packages\\requests\\adapters.py:507\u001b[0m, in \u001b[0;36mHTTPAdapter.send\u001b[1;34m(self, request, stream, timeout, verify, cert, proxies)\u001b[0m\n\u001b[0;32m    504\u001b[0m \u001b[38;5;28;01mif\u001b[39;00m \u001b[38;5;28misinstance\u001b[39m(e\u001b[38;5;241m.\u001b[39mreason, ConnectTimeoutError):\n\u001b[0;32m    505\u001b[0m     \u001b[38;5;66;03m# TODO: Remove this in 3.0.0: see #2811\u001b[39;00m\n\u001b[0;32m    506\u001b[0m     \u001b[38;5;28;01mif\u001b[39;00m \u001b[38;5;129;01mnot\u001b[39;00m \u001b[38;5;28misinstance\u001b[39m(e\u001b[38;5;241m.\u001b[39mreason, NewConnectionError):\n\u001b[1;32m--> 507\u001b[0m         \u001b[38;5;28;01mraise\u001b[39;00m ConnectTimeout(e, request\u001b[38;5;241m=\u001b[39mrequest)\n\u001b[0;32m    509\u001b[0m \u001b[38;5;28;01mif\u001b[39;00m \u001b[38;5;28misinstance\u001b[39m(e\u001b[38;5;241m.\u001b[39mreason, ResponseError):\n\u001b[0;32m    510\u001b[0m     \u001b[38;5;28;01mraise\u001b[39;00m RetryError(e, request\u001b[38;5;241m=\u001b[39mrequest)\n",
      "\u001b[1;31mConnectTimeout\u001b[0m: HTTPSConnectionPool(host='www.rossmann.de', port=443): Max retries exceeded with url: /de/lebensmittel/c/olcat1_4?q=%3Arelevance%3A&pageSize=60&page=32 (Caused by ConnectTimeoutError(<urllib3.connection.HTTPSConnection object at 0x000002529FC3DD50>, 'Connection to www.rossmann.de timed out. (connect timeout=None)'))"
     ]
    }
   ],
   "source": [
    "all_links = []\n",
    "\n",
    "for p in tqdm(range(0, 35)): #35#48\n",
    "    resp = requests.get(url + str(p))\n",
    "    print (url + str(p))\n",
    "    soup = BeautifulSoup(resp.text)\n",
    "    links = ['https://www.rossmann.de' + a.attrs['href'] for a in soup.find_all(class_='rm-tile-product__headline')]\n",
    "    all_links.extend(links)\n",
    "    time.sleep(0.25)"
   ]
  },
  {
   "cell_type": "code",
   "execution_count": 7,
   "metadata": {},
   "outputs": [
    {
     "data": {
      "text/plain": [
       "['https://www.rossmann.de/de/lebensmittel-esn-creatine-monohydrate/p/4250519652078',\n",
       " 'https://www.rossmann.de/de/lebensmittel-air-up-gen-2-flasche-purple-lavender-600-ml/p/4260633613282',\n",
       " 'https://www.rossmann.de/de/lebensmittel-hitschies-wild-berry-kaubonbon/p/4100250006312',\n",
       " 'https://www.rossmann.de/de/lebensmittel-enerbio-tofu-wuerstchen-nach-bratwurst-art/p/4305615677910',\n",
       " 'https://www.rossmann.de/de/lebensmittel-enerbio-hafer-drink-natur-naturland/p/4305615761190',\n",
       " 'https://www.rossmann.de/de/lebensmittel-air-up-3er-set-kola-pods/p/4260633610533',\n",
       " 'https://www.rossmann.de/de/lebensmittel-enerbio-chiasamen/p/4305615664163',\n",
       " 'https://www.rossmann.de/de/lebensmittel-surig-essigessenz/p/4003387005008',\n",
       " 'https://www.rossmann.de/de/haushalt-air-up-gen-2-flasche-charcoal-grey-600-ml/p/4260633613008',\n",
       " 'https://www.rossmann.de/de/lebensmittel-enerbio-konjak-nudeln/p/4305615760056',\n",
       " 'https://www.rossmann.de/de/lebensmittel-waterdrop-microdrink-ice-tea-himbeere/p/9120132067052',\n",
       " 'https://www.rossmann.de/de/lebensmittel-enerbio-apfelessig-naturland/p/4305615779607',\n",
       " 'https://www.rossmann.de/de/lebensmittel-enerbio-leinsamen-geschrotet/p/4068134035172',\n",
       " 'https://www.rossmann.de/de/lebensmittel-air-up-3er-set-waldfrucht-pods/p/4260633610816',\n",
       " 'https://www.rossmann.de/de/lebensmittel-koro-erdbeerscheiben-gefriergetrocknet/p/4260335835791',\n",
       " 'https://www.rossmann.de/de/lebensmittel-enerbio-haferflocken-feinblatt/p/4305615664101',\n",
       " 'https://www.rossmann.de/de/lebensmittel-enerbio-dinkel-herzen/p/4305615678672',\n",
       " 'https://www.rossmann.de/de/lebensmittel-more-zerup-pink-grapefruit/p/4260644047984',\n",
       " 'https://www.rossmann.de/de/lebensmittel-waterdrop-microdrink-eistee-pfirisch/p/9120128134904',\n",
       " 'https://www.rossmann.de/de/lebensmittel-enerbio-raw-chocolate-mit-dattelsuesse-85-kakaoanteil/p/4305615972374',\n",
       " 'https://www.rossmann.de/de/lebensmittel-enerbio-schoko-reiswaffeln-mini-vollmilch/p/4305615990644',\n",
       " 'https://www.rossmann.de/de/lebensmittel-naduria-collagen-premium-hydrolysat/p/4260390244743',\n",
       " 'https://www.rossmann.de/de/lebensmittel-wellmix-sport-riegel-deluxe-strawberry/p/4305615685854',\n",
       " 'https://www.rossmann.de/de/lebensmittel-surig-fluessige-zitronensaeure/p/4003387001062',\n",
       " 'https://www.rossmann.de/de/lebensmittel-wellmix-sport-riegel-deluxe-crunchy-vanilla-karamell/p/4305615709819',\n",
       " 'https://www.rossmann.de/de/lebensmittel-enerbio-grillgemuese-feta-aufstrich/p/4305615968018',\n",
       " 'https://www.rossmann.de/de/lebensmittel-alnatura-bio-joghurt-reiswaffeln-erdbeer/p/4104420232884',\n",
       " 'https://www.rossmann.de/de/lebensmittel-koro-bio-pistazienschnitte/p/4255582809893',\n",
       " 'https://www.rossmann.de/de/lebensmittel-wellmix-sport-riegel-deluxe-double-choc/p/4305615623665',\n",
       " 'https://www.rossmann.de/de/lebensmittel-alnatura-bio-apfelessig-bioland/p/4104420031012',\n",
       " 'https://www.rossmann.de/de/lebensmittel-enerbio-tomatenmark/p/4305615982670',\n",
       " 'https://www.rossmann.de/de/lebensmittel-wellmix-balance-riegel-white-cookie-choc/p/4305615754178',\n",
       " 'https://www.rossmann.de/de/lebensmittel-air-up-3er-set-eistee-pfirsich/p/4260633610908',\n",
       " 'https://www.rossmann.de/de/lebensmittel-alnatura-bio-gewuerzgurken-ungesuesst/p/4104420228795',\n",
       " 'https://www.rossmann.de/de/lebensmittel-wellmix-riegel-deluxe-salted-caramel/p/4305615685830',\n",
       " 'https://www.rossmann.de/de/lebensmittel-griesson-soft-cake-orange/p/4001518722466',\n",
       " 'https://www.rossmann.de/de/lebensmittel-enerbio-apfelmark/p/4068134049773',\n",
       " 'https://www.rossmann.de/de/lebensmittel-genuss-plus-protein-waffel-aus-linsen/p/4068134005915',\n",
       " 'https://www.rossmann.de/de/lebensmittel-enerbio-kuerbis-kerne/p/4305615678252',\n",
       " 'https://www.rossmann.de/de/lebensmittel-ferrero-kinder-riegel/p/4008400221021',\n",
       " 'https://www.rossmann.de/de/lebensmittel-das-exquisite-erlesene-gebaeckmischung/p/4305615839097',\n",
       " 'https://www.rossmann.de/de/lebensmittel-wellmix-sport-riegel-deluxe-peanut/p/4305615623672',\n",
       " 'https://www.rossmann.de/de/gesundheit-prokudent-zahnpflege-kaugummi-strong/p/4305615574561',\n",
       " 'https://www.rossmann.de/de/lebensmittel-alnatura-bio-alpenmilch-haltbar-35-naturland/p/4104420078024',\n",
       " 'https://www.rossmann.de/de/lebensmittel-wellmix-sport-riegel-vanille/p/4305615689067',\n",
       " 'https://www.rossmann.de/de/lebensmittel-genuss-plus-gefriergetrockneter-lieblings-mix/p/4305615946276',\n",
       " 'https://www.rossmann.de/de/lebensmittel-jacobs-typ-espresso-instantkaffee-sticks/p/8711000506448',\n",
       " 'https://www.rossmann.de/de/lebensmittel-haribo-tropifrutti/p/4001686322963',\n",
       " 'https://www.rossmann.de/de/lebensmittel-genuss-plus-knabberkram-exotic/p/4068134045874',\n",
       " 'https://www.rossmann.de/de/lebensmittel-enerbio-bratlinge-mediterran/p/4305615975825',\n",
       " 'https://www.rossmann.de/de/lebensmittel-wellmix-riegel-deluxe-white-peanut-toffee/p/4305615791296',\n",
       " 'https://www.rossmann.de/de/lebensmittel-genuss-plus-gefriergetrocknete-erdbeeren-in-scheiben/p/4305615946252',\n",
       " 'https://www.rossmann.de/de/lebensmittel-ahead-zero-sugar-syrup-peach-ice-tea/p/4260562940411',\n",
       " 'https://www.rossmann.de/de/lebensmittel-genuss-plus-edel-nuss-mix/p/4305615908946',\n",
       " 'https://www.rossmann.de/de/lebensmittel-wellmix-sport-riegel-schoko/p/4305615606798',\n",
       " 'https://www.rossmann.de/de/lebensmittel-enerbio-tomate-feta-olive-aufstrich/p/4305615968025',\n",
       " 'https://www.rossmann.de/de/lebensmittel-enerbio-reiswaffeln-zartbitter/p/4305615677262',\n",
       " 'https://www.rossmann.de/de/lebensmittel-hitschies-original-mix/p/4100250006534',\n",
       " 'https://www.rossmann.de/de/lebensmittel-waterdrop-microdrink-eistee-zitrone/p/9120128134980',\n",
       " 'https://www.rossmann.de/de/lebensmittel-ahead-schokoriegel-salted-peanut-caramel/p/4260562940275',\n",
       " 'https://www.rossmann.de/de/lebensmittel-nimm2-fruchtkaubonbons/p/4014400909470',\n",
       " 'https://www.rossmann.de/de/lebensmittel-enerbio-buchweizen-naturland/p/4305615666808',\n",
       " 'https://www.rossmann.de/de/lebensmittel-alnatura-bio-dinkel-stangen/p/4104420052369',\n",
       " 'https://www.rossmann.de/de/lebensmittel-enerbio-joghurt-reiswaffeln-weisse-schokolade/p/4305615677316',\n",
       " 'https://www.rossmann.de/de/lebensmittel-enerbio-linsenwaffeln-meersalz/p/4305615847603',\n",
       " 'https://www.rossmann.de/de/lebensmittel-enerbio-hanfsamen-geschaelt/p/4305615664187',\n",
       " 'https://www.rossmann.de/de/lebensmittel-enerbio-roggen-vollkornbrot-bioland/p/4305615798417',\n",
       " 'https://www.rossmann.de/de/lebensmittel-alnatura-bio-gelbe-linse-kurkuma-aufstrich/p/4104420219144',\n",
       " 'https://www.rossmann.de/de/lebensmittel-funny-frisch-jumpys/p/4003586002662',\n",
       " 'https://www.rossmann.de/de/lebensmittel-enerbio-tomate-baerlauch-gemueseaufstrich/p/4305615968049',\n",
       " 'https://www.rossmann.de/de/lebensmittel-enerbio-flohsamenschalen/p/4305615664170',\n",
       " 'https://www.rossmann.de/de/lebensmittel-enerbio-vollkorn-spirelli/p/4305615943831',\n",
       " 'https://www.rossmann.de/de/lebensmittel-enerbio-fruchtaufstrich-erdbeere/p/4305615770741',\n",
       " 'https://www.rossmann.de/de/lebensmittel-genuss-plus-brownie-balls/p/4305615883809',\n",
       " 'https://www.rossmann.de/de/lebensmittel-alnatura-bio-olivenoel-nativ-extra/p/4104420248823',\n",
       " 'https://www.rossmann.de/de/lebensmittel-more-zerup-capri-orange/p/4260644047724',\n",
       " 'https://www.rossmann.de/de/lebensmittel-capri-sun-sirup-monster-alarm/p/4000177031292',\n",
       " 'https://www.rossmann.de/de/lebensmittel-enerbio-fruchtmix/p/4068134013583',\n",
       " 'https://www.rossmann.de/de/lebensmittel-alnatura-bio-veganes-zwiebelschmalz/p/4104420229648',\n",
       " 'https://www.rossmann.de/de/lebensmittel-enerbio-streichcreme-paprika-cashew/p/4068134010490',\n",
       " 'https://www.rossmann.de/de/lebensmittel-enerbio-mais-waffeln-mini-tomate-und-basilikum/p/4305615676869',\n",
       " 'https://www.rossmann.de/de/lebensmittel-alnatura-bio-knaeckebrot-delikatess/p/4104420016057',\n",
       " 'https://www.rossmann.de/de/lebensmittel-enerbio-daenische-burgersauce/p/4068134036452',\n",
       " 'https://www.rossmann.de/de/lebensmittel-genuss-plus-studentenfutter/p/4305615839431',\n",
       " 'https://www.rossmann.de/de/lebensmittel-kings-crown-gruener-rooibostee-sonne-afrikas/p/4305615641447',\n",
       " 'https://www.rossmann.de/de/lebensmittel-alnatura-alnatura-leinsamen-pflaume-und-dattel-200g/p/4104420242005',\n",
       " 'https://www.rossmann.de/de/lebensmittel-tuc-original-kraecker/p/5410041001204',\n",
       " 'https://www.rossmann.de/de/lebensmittel-capri-sun-sirup--vitamine-orange-zero-sugar/p/4000177030967',\n",
       " 'https://www.rossmann.de/de/lebensmittel-ahead-zero-sugar-syrup-lemon-ice-tea/p/4260562940428',\n",
       " 'https://www.rossmann.de/de/lebensmittel-alnatura-bio-edelbitter-schokolade-87--kakao/p/4104420220515',\n",
       " 'https://www.rossmann.de/de/lebensmittel-haribo-color-rado/p/4001686725504',\n",
       " 'https://www.rossmann.de/de/lebensmittel-katjes-schaumzucker-fruchtgummi-gruen-ohr-hase/p/4037400344768',\n",
       " 'https://www.rossmann.de/de/lebensmittel-alnatura-bio-haselnuss-dattel-creme/p/4104420244986',\n",
       " 'https://www.rossmann.de/de/lebensmittel-kings-crown-bio-fruechtetee-erdbeer-rhabarber-kaltaufguss/p/4068134035493',\n",
       " 'https://www.rossmann.de/de/lebensmittel-air-up-3er-set-wassermelone-pods/p/4260633611233',\n",
       " 'https://www.rossmann.de/de/lebensmittel-laudatio-kaffeegenuss-barista-crema/p/4305615893754',\n",
       " 'https://www.rossmann.de/de/lebensmittel-ferrero-duplo-riegel/p/4008400301020',\n",
       " 'https://www.rossmann.de/de/lebensmittel-enerbio-bratoel-olive/p/4305615678030',\n",
       " 'https://www.rossmann.de/de/lebensmittel-enerbio-rote-linsen-spirelli/p/4305615670225',\n",
       " 'https://www.rossmann.de/de/lebensmittel-enerbio-bruschetta-aufstrich/p/4305615971933',\n",
       " 'https://www.rossmann.de/de/lebensmittel-alnatura-bio-kaesegebaeck-gouda/p/4104420227552',\n",
       " 'https://www.rossmann.de/de/lebensmittel-enerbio-kokosoel-neutral/p/4305615859071',\n",
       " 'https://www.rossmann.de/de/lebensmittel-enerbio-kokosoel-nativ-naturland/p/4305615896120',\n",
       " 'https://www.rossmann.de/de/lebensmittel-enerbio-back-hefe/p/4305615851495',\n",
       " 'https://www.rossmann.de/de/lebensmittel-alnatura-bio-linsenwaffeln/p/4104420208254',\n",
       " 'https://www.rossmann.de/de/lebensmittel-ferrero-kinder-schoko-bons/p/5413548283128',\n",
       " 'https://www.rossmann.de/de/lebensmittel-alpia-schoko-brezeln-vollmilch/p/4001743759985',\n",
       " 'https://www.rossmann.de/de/lebensmittel-enerbio-kaese-stangen-mit-gouda/p/4305615678528',\n",
       " 'https://www.rossmann.de/de/lebensmittel-alnatura-bio-vollkorn-salz-brezeln/p/4104420052321',\n",
       " 'https://www.rossmann.de/de/lebensmittel-enerbio-schoko-crunchy-bioland/p/4068134010681',\n",
       " 'https://www.rossmann.de/de/lebensmittel-enerbio-tomate-basilikum-streichcreme/p/4305615968087',\n",
       " 'https://www.rossmann.de/de/lebensmittel-waterdrop-microdrink-snow-brombeere/p/9120132063986',\n",
       " 'https://www.rossmann.de/de/haushalt-wellmix-shaker/p/4305615606934',\n",
       " 'https://www.rossmann.de/de/lebensmittel-katjes-fruchtgummi-yoghurt-gums/p/4037400344737',\n",
       " 'https://www.rossmann.de/de/lebensmittel-enerbio-nussriegel-schoko-und-meersalz/p/4305615985824',\n",
       " 'https://www.rossmann.de/de/lebensmittel-ahead-zero-sugar-syrup-mango-passionfruit/p/4260562940442',\n",
       " 'https://www.rossmann.de/de/lebensmittel-enerbio-saatenbrot/p/4068134004796',\n",
       " 'https://www.rossmann.de/de/lebensmittel-enerbio-kokos-mandelmus/p/4305615998749',\n",
       " 'https://www.rossmann.de/de/lebensmittel-enerbio-buchweizenmehl/p/4305615677705',\n",
       " 'https://www.rossmann.de/de/lebensmittel-alnatura-bio-knabber-eulen-classic-bioland/p/4104420055360',\n",
       " 'https://www.rossmann.de/de/lebensmittel-enerbio-urzeitgenuss/p/4305615663852',\n",
       " 'https://www.rossmann.de/de/lebensmittel-alnatura-bio-tomate-basilikum-aufstrich/p/4104420035768',\n",
       " 'https://www.rossmann.de/de/lebensmittel-enerbio-pesto-kraeuter-limette/p/4068134036872',\n",
       " 'https://www.rossmann.de/de/lebensmittel-alnatura-bio-bolognese-sauce/p/4104420213395',\n",
       " 'https://www.rossmann.de/de/lebensmittel-enerbio-kokosmilch-naturland/p/4305615837918',\n",
       " 'https://www.rossmann.de/de/lebensmittel-ferrero-nutella-b-ready-waffeln/p/8000500227848',\n",
       " 'https://www.rossmann.de/de/lebensmittel-alnatura-bio-origin-fettuccine/p/4104420240087',\n",
       " 'https://www.rossmann.de/de/lebensmittel-enerbio-kinder-tomatensauce/p/4305615647975',\n",
       " 'https://www.rossmann.de/de/lebensmittel-enerbio-peanut-und-banane-aufstrich/p/4068134049582',\n",
       " 'https://www.rossmann.de/de/lebensmittel-das-exquisite-balena-zartbitterschokolade-spritzgebaeck/p/4305615839066',\n",
       " 'https://www.rossmann.de/de/lebensmittel-wrigleys-airwaves-menthol-und-eucalyptus-kaugummi/p/4009900520058',\n",
       " 'https://www.rossmann.de/de/lebensmittel-just-taste-bio-edamame-spaghetti/p/4260651480019',\n",
       " 'https://www.rossmann.de/de/lebensmittel-genuss-plus-sonnenblumenkerne/p/4305615839769',\n",
       " 'https://www.rossmann.de/de/lebensmittel-enerbio-curry-mango-streichcreme/p/4305615968063',\n",
       " 'https://www.rossmann.de/de/lebensmittel-enerbio-haferdrinkpulver/p/4305615996370',\n",
       " 'https://www.rossmann.de/de/haushalt-sodastream-7up-sirup-ohne-zucker/p/8719128117294',\n",
       " 'https://www.rossmann.de/de/lebensmittel-haribo-goldbaeren/p/4001686322840',\n",
       " 'https://www.rossmann.de/de/lebensmittel-alnatura-bio-apfelmark-mit-birne/p/4104420240810',\n",
       " 'https://www.rossmann.de/de/lebensmittel-koro-vegane-muehlen-bacon-bites/p/4000405005477',\n",
       " 'https://www.rossmann.de/de/lebensmittel-enerbio-haltbare-landmilch-15-fett-naturland/p/4305615929705',\n",
       " 'https://www.rossmann.de/de/lebensmittel-pringles-pizza-flavour-chips/p/5053990151035',\n",
       " 'https://www.rossmann.de/de/lebensmittel-enerbio-reisflocken/p/4305615851716',\n",
       " 'https://www.rossmann.de/de/lebensmittel-enerbio-reis-waffeln-natur/p/4305615676845',\n",
       " 'https://www.rossmann.de/de/lebensmittel-enerbio-beeren-mix-in-dreierlei-schokolade/p/4305615677217',\n",
       " 'https://www.rossmann.de/de/lebensmittel-enerbio-taboule-minze/p/4305615975801',\n",
       " 'https://www.rossmann.de/de/lebensmittel-enerbio-tofu-natur/p/4305615677958',\n",
       " 'https://www.rossmann.de/de/lebensmittel-enerbio-tomatenstuecke/p/4305615666976',\n",
       " 'https://www.rossmann.de/de/lebensmittel-enerbio-cashewbruch/p/4305615874463',\n",
       " 'https://www.rossmann.de/de/lebensmittel-knoppers-knoppers-8er-packung/p/4014400928907',\n",
       " 'https://www.rossmann.de/de/lebensmittel-esn-designer-whey-protein-stracciatella/p/4250519652887',\n",
       " 'https://www.rossmann.de/de/lebensmittel-storck-toffifee/p/4014400400007',\n",
       " 'https://www.rossmann.de/de/lebensmittel-enerbio-pesto-champignon-kaese-walnuss/p/4305615995403',\n",
       " 'https://www.rossmann.de/de/lebensmittel-alnatura-bio-haferdrink-ohne-zucker/p/4104420246690',\n",
       " 'https://www.rossmann.de/de/lebensmittel-alnatura-bio-meersalz/p/4104420031647',\n",
       " 'https://www.rossmann.de/de/lebensmittel-alnatura-bio-mais/p/4104420034365',\n",
       " 'https://www.rossmann.de/de/lebensmittel-naughty-nuts-bio-mandelmus-cinnamon/p/4260737540019',\n",
       " 'https://www.rossmann.de/de/lebensmittel-alnatura-bio-agavendicksaft/p/4104420024564',\n",
       " 'https://www.rossmann.de/de/lebensmittel-enerbio-walnuss-kerne/p/4305615879116',\n",
       " 'https://www.rossmann.de/de/lebensmittel-enerbio-cornflakes-ohne-zuckerzusatz/p/4305615664057',\n",
       " 'https://www.rossmann.de/de/lebensmittel-enerbio-falafel/p/4305615985558',\n",
       " 'https://www.rossmann.de/de/lebensmittel-kings-crown-fruechtetee-pfirsich-limette/p/4305615797489',\n",
       " 'https://www.rossmann.de/de/lebensmittel-wellmix-riegel-cookie-dough/p/4305615606866',\n",
       " 'https://www.rossmann.de/de/lebensmittel-ferrero-kinder-country-9er-pack/p/4008400260921',\n",
       " 'https://www.rossmann.de/de/lebensmittel-kuchenmeister-koala-kakao/p/4008210262009',\n",
       " 'https://www.rossmann.de/de/lebensmittel-enerbio-dinkelgriess/p/4305615677675',\n",
       " 'https://www.rossmann.de/de/lebensmittel-genuss-plus-weizenkeime/p/4305615839844',\n",
       " 'https://www.rossmann.de/de/lebensmittel-enerbio-hafer-cookies-bioland/p/4305615780818',\n",
       " 'https://www.rossmann.de/de/lebensmittel-enerbio-nuss-nougat-creme/p/4305615990569',\n",
       " 'https://www.rossmann.de/de/lebensmittel-genuss-plus-walnusskerne/p/4305615839356',\n",
       " 'https://www.rossmann.de/de/lebensmittel-alnatura-bio-tomaten-ketchup/p/4104420031500',\n",
       " 'https://www.rossmann.de/de/lebensmittel-alnatura-bio-hafer-dinkel-kekse/p/4104420053120',\n",
       " 'https://www.rossmann.de/de/lebensmittel-just-taste-bio-black-bean-spaghetti/p/4260651480057',\n",
       " 'https://www.rossmann.de/de/lebensmittel-nippon-happen/p/4021700900021',\n",
       " 'https://www.rossmann.de/de/lebensmittel-alnatura-bio-mittelscharf-senf/p/4104420209152',\n",
       " 'https://www.rossmann.de/de/lebensmittel-koro-soja-protein-crispies-60-/p/4260335837344',\n",
       " 'https://www.rossmann.de/de/lebensmittel-koro-bio-erbsenprotein/p/4260335833735',\n",
       " 'https://www.rossmann.de/de/lebensmittel-haribo-lakritz-schnecken/p/4001686102701',\n",
       " 'https://www.rossmann.de/de/lebensmittel-hitschies-saure-drachenzungen-fruchtgummi/p/4003840008843',\n",
       " 'https://www.rossmann.de/de/lebensmittel-zetti-knusper-flocken-klassik/p/4012362080503',\n",
       " 'https://www.rossmann.de/de/lebensmittel-wellmix-sport-riegel-banane/p/4305615606774',\n",
       " 'https://www.rossmann.de/de/haushalt-sodastream-pepsi-max-sirup/p/8719128117249',\n",
       " 'https://www.rossmann.de/de/lebensmittel-genuss-plus-kuerbiskerne/p/4305615839776',\n",
       " 'https://www.rossmann.de/de/lebensmittel-enerbio-kichererbsenwaffeln-mit-reis-und-meersalz/p/4068134035202',\n",
       " 'https://www.rossmann.de/de/lebensmittel-nimm2-orangen--und-zitronenbonbons-mit-vitaminen/p/4014400904215',\n",
       " 'https://www.rossmann.de/de/lebensmittel-laudatio-kaffeegenuss-chai-latte-feine-vanille-zimt-note/p/4305615684895',\n",
       " 'https://www.rossmann.de/de/lebensmittel-enerbio-dinkelmehl-type-630/p/4305615990965',\n",
       " 'https://www.rossmann.de/de/lebensmittel-ferrero-hanuta-haselnuss-schnitte-10-stueck/p/8000500272442',\n",
       " 'https://www.rossmann.de/de/lebensmittel-enerbio-haferflocken-feinblatt/p/4305615907840',\n",
       " 'https://www.rossmann.de/de/lebensmittel-alnatura-bio-dinkel-kokos-kekse-bioland/p/4104420207615',\n",
       " 'https://www.rossmann.de/de/lebensmittel-jacobs-cafe-crema-kaffee-25-einzelportionen/p/8711000396780',\n",
       " 'https://www.rossmann.de/de/lebensmittel-genuss-plus-aktiv-starter/p/4305615839479',\n",
       " 'https://www.rossmann.de/de/lebensmittel-genuss-plus-gefriergetrocknete-himbeeren/p/4305615946269',\n",
       " 'https://www.rossmann.de/de/lebensmittel-alnavit-bio-chia-quinoa-broetchen/p/0000042406112',\n",
       " 'https://www.rossmann.de/de/lebensmittel-wellmix-riegel-peanut-caramel/p/4305615941769',\n",
       " 'https://www.rossmann.de/de/lebensmittel-enerbio-zitronensaft-naturland/p/4305615887180',\n",
       " 'https://www.rossmann.de/de/lebensmittel-enerbio-soja-drink-natur/p/4305615662831',\n",
       " 'https://www.rossmann.de/de/lebensmittel-enerbio-quinoa-tricolore/p/4305615922928',\n",
       " 'https://www.rossmann.de/de/lebensmittel-genuss-plus-reiswaffeln-milchschokolade/p/4305615839707',\n",
       " 'https://www.rossmann.de/de/lebensmittel-alnatura-bio-haferdrink-natur-bioland/p/4104420232129',\n",
       " 'https://www.rossmann.de/de/lebensmittel-enerbio-salattopping-wuerzig/p/4305615975764',\n",
       " 'https://www.rossmann.de/de/lebensmittel-enerbio-leinsamen-ganz/p/4305615946283',\n",
       " 'https://www.rossmann.de/de/lebensmittel-enerbio-mischmus-4-nuesse/p/4305615972053',\n",
       " 'https://www.rossmann.de/de/lebensmittel-enerbio-dinkel-spaghetti-naturland/p/4305615922911',\n",
       " 'https://www.rossmann.de/de/lebensmittel-enerbio-knusperbrot-huelsenfruechte/p/4305615990606',\n",
       " 'https://www.rossmann.de/de/lebensmittel-alnatura-bio-linsenwaffeln/p/4104420231658',\n",
       " 'https://www.rossmann.de/de/lebensmittel-ferrero-raffaello-kokos-spezialitaet/p/4008400181523',\n",
       " 'https://www.rossmann.de/de/lebensmittel-merci-finest-selection/p/4014400901191',\n",
       " 'https://www.rossmann.de/de/lebensmittel-enerbio-tomatensaft-naturland/p/4305615650869',\n",
       " 'https://www.rossmann.de/de/lebensmittel-enerbio-gemuesebruehe/p/4305615810454',\n",
       " 'https://www.rossmann.de/de/lebensmittel-katjes-fruchtgummi-wunderland-sauer/p/4037400344782',\n",
       " 'https://www.rossmann.de/de/lebensmittel-alnatura-bio-hefeflocken/p/4104420214040',\n",
       " 'https://www.rossmann.de/de/lebensmittel-alnatura-bio-dinkel-mini-brezeln/p/4104420053861',\n",
       " 'https://www.rossmann.de/de/lebensmittel-genuss-plus-apfelringe/p/4305615839608',\n",
       " 'https://www.rossmann.de/de/lebensmittel-alnatura-bio-hafer-crunchy/p/4104420017726',\n",
       " 'https://www.rossmann.de/de/lebensmittel-enerbio-soft-datteln/p/4305615822563',\n",
       " 'https://www.rossmann.de/de/lebensmittel-enerbio-haltbare-landmilch-35-fett-naturland/p/4305615929712',\n",
       " 'https://www.rossmann.de/de/lebensmittel-teekanne-fruechtetee-italienische-limone/p/4009300014492',\n",
       " 'https://www.rossmann.de/de/lebensmittel-alnatura-meersalz-mit-jod/p/4104420031661',\n",
       " 'https://www.rossmann.de/de/lebensmittel-enerbio-bananen-chips/p/4305615678474',\n",
       " 'https://www.rossmann.de/de/lebensmittel-enerbio-haferkleie-bioland/p/4305615851723',\n",
       " 'https://www.rossmann.de/de/lebensmittel-enerbio-mandelmus-weiss/p/4305615996325',\n",
       " 'https://www.rossmann.de/de/lebensmittel-alnatura-bio-fruchtaufstrich-hagebutte/p/4104420045828',\n",
       " 'https://www.rossmann.de/de/lebensmittel-alnatura-bio-kokos-hafer-crunchy/p/4104420215474',\n",
       " 'https://www.rossmann.de/de/lebensmittel-alnatura-bio-fruchtaufstrich-himbeere-mit-agavendicksaft/p/4104420045927',\n",
       " 'https://www.rossmann.de/de/lebensmittel-genuss-plus-nuss-mix-geroestet/p/4305615839554',\n",
       " 'https://www.rossmann.de/de/lebensmittel-koro-bio-dattelzucker/p/4260654787412',\n",
       " 'https://www.rossmann.de/de/lebensmittel-alnatura-bio-kidney-bohnen/p/4104420138803',\n",
       " 'https://www.rossmann.de/de/lebensmittel-koro-guarkernmehl/p/4260654782295',\n",
       " 'https://www.rossmann.de/de/lebensmittel-koro-xylit/p/4260335838464',\n",
       " 'https://www.rossmann.de/de/lebensmittel-enerbio-glutenfreie-haferflocken-feinblatt-bioland/p/4305615851730',\n",
       " 'https://www.rossmann.de/de/lebensmittel-enerbio-mango-streifen/p/4305615678481',\n",
       " 'https://www.rossmann.de/de/lebensmittel-hitschies-spinnenbeine-saure-fruchtgummi-sticks/p/4003840008317',\n",
       " 'https://www.rossmann.de/de/lebensmittel-alnatura-bio-rote-bete-cracker/p/4104420145825',\n",
       " 'https://www.rossmann.de/de/lebensmittel-genuss-plus-peanut-balls/p/4305615947204',\n",
       " 'https://www.rossmann.de/de/lebensmittel-enerbio-bratoel/p/4305615678061',\n",
       " 'https://www.rossmann.de/de/lebensmittel-alnatura-bio-mandeldrink-ungesuesst-naturland/p/4104420186316',\n",
       " 'https://www.rossmann.de/de/lebensmittel-wellmix-sport-veganes-protein-vanille-300g/p/4305615606736',\n",
       " 'https://www.rossmann.de/de/lebensmittel-alnatura-bio-eiweissbrot/p/4104420230866',\n",
       " 'https://www.rossmann.de/de/lebensmittel-enerbio-dinkel-brezeln/p/4305615678603',\n",
       " 'https://www.rossmann.de/de/lebensmittel-enerbio-cashewkerne-in-weisser-joghurtschokolade/p/4305615677163',\n",
       " 'https://www.rossmann.de/de/lebensmittel-hitschies-schnuere-cola-fruchtgummi/p/4003840009161',\n",
       " 'https://www.rossmann.de/de/lebensmittel-esn-designer-bar-almond-coconut-riegel/p/4250519646510',\n",
       " 'https://www.rossmann.de/de/lebensmittel-trolli-dinorex-fruchtgummi/p/4000512463634',\n",
       " 'https://www.rossmann.de/de/lebensmittel-ferrero-kinder-bueno-white/p/8000500273470',\n",
       " 'https://www.rossmann.de/de/lebensmittel-esn-designer-whey-protein-cinnamon-cereal/p/4250519653051',\n",
       " 'https://www.rossmann.de/de/lebensmittel-funny-frisch-chipsfrisch-ungarisch/p/4003586100313',\n",
       " 'https://www.rossmann.de/de/lebensmittel-ahead-schokoriegel-hazelnut-cacao/p/4260562940237',\n",
       " 'https://www.rossmann.de/de/lebensmittel-alnatura-bio-roggenvollkornbrot-bioland/p/4104420224728',\n",
       " 'https://www.rossmann.de/de/lebensmittel-enerbio-sonnenblumenhack/p/4305615760261',\n",
       " 'https://www.rossmann.de/de/lebensmittel-alnatura-alnatura-spaghetti-vollkorn-500g/p/4104420236974',\n",
       " 'https://www.rossmann.de/de/lebensmittel-ferrero-kinder-happy-hippo-kakao/p/8000500423523',\n",
       " 'https://www.rossmann.de/de/lebensmittel-enerbio-berglinsen/p/4305615666785',\n",
       " 'https://www.rossmann.de/de/lebensmittel-enerbio-knabber-kerne/p/4305615678580',\n",
       " 'https://www.rossmann.de/de/lebensmittel-enerbio-sonnenblumen-kerne/p/4305615678276',\n",
       " 'https://www.rossmann.de/de/lebensmittel-genuss-plus-flohsamenschalen-gemahlen/p/4305615943817',\n",
       " 'https://www.rossmann.de/de/lebensmittel-trolli-rote-fruechte-mini-ringe/p/4000512463740',\n",
       " 'https://www.rossmann.de/de/lebensmittel-alnatura-bio-kokos-mandel-creme/p/4104420182479',\n",
       " 'https://www.rossmann.de/de/lebensmittel-enerbio-apfel-kirsch-saft/p/4068134013866',\n",
       " 'https://www.rossmann.de/de/lebensmittel-genuss-plus-mango-streifen/p/4305615839684',\n",
       " 'https://www.rossmann.de/de/lebensmittel-enerbio-konjak-reis/p/4305615883502',\n",
       " 'https://www.rossmann.de/de/lebensmittel-koro-bio-lupinenkaffee-geroestet-und-gemahlen/p/4260654782004',\n",
       " 'https://www.rossmann.de/de/lebensmittel-enerbio-cranberries/p/4305615678467',\n",
       " 'https://www.rossmann.de/de/lebensmittel-nimm2-lachgummi-cola-flaschies/p/4014400934144',\n",
       " 'https://www.rossmann.de/de/lebensmittel-das-exquisite-tafel-marzipan-zartbitter/p/4305615838984',\n",
       " 'https://www.rossmann.de/de/lebensmittel-koro-veganes-muehlen-hack/p/4000405005460',\n",
       " 'https://www.rossmann.de/de/lebensmittel-enerbio-dinkel-waffeln-natur/p/4305615676876',\n",
       " 'https://www.rossmann.de/de/lebensmittel-waterdrop-microdrink-sky/p/9120117505173',\n",
       " 'https://www.rossmann.de/de/lebensmittel-alnatura-bio-gemuesebouillon/p/4104420137264',\n",
       " 'https://www.rossmann.de/de/lebensmittel-kings-crown-fruechtetee-apfel-dattel-feige/p/4305615636948',\n",
       " 'https://www.rossmann.de/de/lebensmittel-wellmix-sport-protein-90-mit-vanille-geschmack/p/4305615606705',\n",
       " 'https://www.rossmann.de/de/lebensmittel-enerbio-dinkel-kugeln-in-vollmilchschokolade/p/4305615677170',\n",
       " 'https://www.rossmann.de/de/lebensmittel-wellmix-sport-riegel-cocos/p/4305615606781',\n",
       " 'https://www.rossmann.de/de/lebensmittel-alnatura-bio-bergkraeutertee/p/4104420039889',\n",
       " 'https://www.rossmann.de/de/lebensmittel-just-taste-bio-mungo-edamame-fettuccine/p/4260651481184',\n",
       " 'https://www.rossmann.de/de/lebensmittel-alnatura-bio-apfel-direktsaft-naturtrueb/p/4104420071728',\n",
       " 'https://www.rossmann.de/de/lebensmittel-alnatura-bio-ahornsirup-grad-c/p/4104420021037',\n",
       " 'https://www.rossmann.de/de/lebensmittel-kings-crown-kraeutertee-fenchel-anis-kuemmel/p/4305615641409',\n",
       " 'https://www.rossmann.de/de/lebensmittel-tonys-chocolonely-lil-bits-dreierlei-schokoladen-mix/p/8720701143210',\n",
       " 'https://www.rossmann.de/de/lebensmittel-naughty-nuts-bio-erdnussmus-caramel/p/4260737540033',\n",
       " 'https://www.rossmann.de/de/lebensmittel-enerbio-kichererbsenchips/p/4305615926384',\n",
       " 'https://www.rossmann.de/de/lebensmittel-air-up-3er-set-virgin-mojito-pods/p/4260633612315',\n",
       " 'https://www.rossmann.de/de/lebensmittel-hitschies-hitschies-kaubonbon-mermaid-mix/p/4100250006787',\n",
       " 'https://www.rossmann.de/de/lebensmittel-enerbio-cashew-mango-kokos-mix/p/4305615918907',\n",
       " 'https://www.rossmann.de/de/lebensmittel-alnatura-bio-mais-minis-a-la-sour-cream-und-onion/p/4104420135222',\n",
       " 'https://www.rossmann.de/de/lebensmittel-alnatura-bio-karottensaft/p/4104420070189',\n",
       " 'https://www.rossmann.de/de/lebensmittel-enerbio-sojaflocken/p/4305615663890',\n",
       " 'https://www.rossmann.de/de/lebensmittel-alnatura-bio-salzsticks/p/4104420052529',\n",
       " 'https://www.rossmann.de/de/lebensmittel-haribo-pico-balla/p/4001686120132',\n",
       " 'https://www.rossmann.de/de/lebensmittel-alnatura-bio-pesto-basilico/p/4104420031326',\n",
       " 'https://www.rossmann.de/de/lebensmittel-funny-frisch-pom-baer-ketchup/p/4000522105227',\n",
       " 'https://www.rossmann.de/de/lebensmittel-smarties-rolle/p/0000040345512',\n",
       " 'https://www.rossmann.de/de/lebensmittel-enerbio-reis-drink-natur/p/4305615662787',\n",
       " 'https://www.rossmann.de/de/lebensmittel-enerbio-mandeln-vanille-und-kokos-in-weisser-schokolade/p/4305615677149',\n",
       " 'https://www.rossmann.de/de/lebensmittel-enerbio-waldbeere-fruchtaufstrich/p/4305615770765',\n",
       " 'https://www.rossmann.de/de/lebensmittel-glico-mikado-milchschokolade/p/7622300476144',\n",
       " 'https://www.rossmann.de/de/lebensmittel-3bears-overnight-oats-goldene-mango/p/4260462984515',\n",
       " 'https://www.rossmann.de/de/lebensmittel-enerbio-agavendicksaft-hell/p/4305615982557',\n",
       " 'https://www.rossmann.de/de/lebensmittel-enerbio-feta-tomaten-tapenade/p/4305615975788',\n",
       " 'https://www.rossmann.de/de/lebensmittel-alnatura-bio-kichererbsen-couscous/p/4104420241565',\n",
       " 'https://www.rossmann.de/de/lebensmittel-yogi-tea-bio-basische-kraeuter-tee/p/4012824404243',\n",
       " 'https://www.rossmann.de/de/lebensmittel-naduria-bio-protein-vegan-pur-ungesuesst/p/4260390243852',\n",
       " 'https://www.rossmann.de/de/lebensmittel-enerbio-espresso-classico-ganze-bohnen/p/4305615663715',\n",
       " 'https://www.rossmann.de/de/lebensmittel-nimm2-lachgummi-mit-vitaminen/p/4014400914818',\n",
       " 'https://www.rossmann.de/de/lebensmittel-enerbio-bluetenhonig-naturland/p/4305615677415',\n",
       " 'https://www.rossmann.de/de/lebensmittel-enerbio-getrocknete-tomaten-in-oel/p/4305615918815',\n",
       " 'https://www.rossmann.de/de/lebensmittel-wrigleys-extra-professional-kaugummi-dragees-erdbeere/p/4009900544467',\n",
       " 'https://www.rossmann.de/de/lebensmittel-genuss-plus-blanchierte-mandeln/p/4305615839370',\n",
       " 'https://www.rossmann.de/de/lebensmittel-koro-erbsenprotein-schnetzel/p/4260654780956',\n",
       " 'https://www.rossmann.de/de/lebensmittel-enerbio-rosinen/p/4305615986555',\n",
       " 'https://www.rossmann.de/de/lebensmittel-mia-vita-mia-vita-vino-bianco-italiano/p/8032625331292',\n",
       " 'https://www.rossmann.de/de/lebensmittel-enerbio-waldbeer-granola/p/4305615663944',\n",
       " 'https://www.rossmann.de/de/lebensmittel-alnatura-bio-dinkel-brezeln-sesam/p/4104420052345',\n",
       " 'https://www.rossmann.de/de/lebensmittel-enerbio-schokoriegel-kokos-und-zartbitter/p/4305615654263',\n",
       " 'https://www.rossmann.de/de/lebensmittel-wellmix-l-carnitin-liquid-orange/p/4305615606910',\n",
       " 'https://www.rossmann.de/de/lebensmittel-alnatura-bio-kokos-zartbitter-schokolade/p/4104420210936',\n",
       " 'https://www.rossmann.de/de/lebensmittel-wellmix-protein-haselnuss-schnitte/p/4305615986166',\n",
       " 'https://www.rossmann.de/de/lebensmittel-kings-crown-kraeutertee-9-kraeuter/p/4305615641492',\n",
       " 'https://www.rossmann.de/de/lebensmittel-wellmix-protein-90-peanut-butter-cookie/p/4305615838793',\n",
       " 'https://www.rossmann.de/de/lebensmittel-koro-bio-gekeimte-haferflocken/p/4260654781472',\n",
       " 'https://www.rossmann.de/de/lebensmittel-enerbio-immun-kick-muesli-fuer-das-imunsystem/p/4305615846903',\n",
       " 'https://www.rossmann.de/de/lebensmittel-enerbio-roestzwiebeln/p/4068134036889',\n",
       " 'https://www.rossmann.de/de/lebensmittel-enerbio-leinoel-nativ/p/4068134004529',\n",
       " 'https://www.rossmann.de/de/lebensmittel-enerbio-hafer-mandel-drink/p/4305615915067',\n",
       " 'https://www.rossmann.de/de/lebensmittel-enerbio-sesam-ungeschaelt/p/4305615664231',\n",
       " 'https://www.rossmann.de/de/lebensmittel-oatsome-bio-feelgood-spread-happy-hazel-brotaufstrich/p/4260686520919',\n",
       " 'https://www.rossmann.de/de/lebensmittel-veganz-seitan-basis/p/4251725801052',\n",
       " 'https://www.rossmann.de/de/lebensmittel-ferrero-kinder-cards-waffel-im-keksformat/p/8000500269169',\n",
       " 'https://www.rossmann.de/de/lebensmittel-alnatura-bio-dinkel-spirelli-bioland/p/4104420137202',\n",
       " 'https://www.rossmann.de/de/lebensmittel-enerbio-knabber-sonnen-naturland/p/4305615961651',\n",
       " 'https://www.rossmann.de/de/lebensmittel-wellmix-riegel-vegan-salty-peanut/p/4305615791289',\n",
       " 'https://www.rossmann.de/de/lebensmittel-ferrero-kinder-bueno/p/4008400322728',\n",
       " 'https://www.rossmann.de/de/lebensmittel-red-band-fruchtgummi-schuhe/p/8713800119934',\n",
       " 'https://www.rossmann.de/de/lebensmittel-enerbio-aubergine-streichcreme/p/4305615967974',\n",
       " 'https://www.rossmann.de/de/lebensmittel-genuss-plus-hafer-drink-calcium/p/4305615908724',\n",
       " 'https://www.rossmann.de/de/haushalt-rubin-multi-plus-wasserfilter-kartuschen/p/4305615282374',\n",
       " 'https://www.rossmann.de/de/lebensmittel-esn-eaa-peach-iced-tea/p/4250519652115',\n",
       " 'https://www.rossmann.de/de/lebensmittel-enerbio-gemuese-chips/p/4305615652399',\n",
       " 'https://www.rossmann.de/de/lebensmittel-enerbio-himbeer-fruchtaufstrich/p/4305615770758',\n",
       " 'https://www.rossmann.de/de/lebensmittel-enerbio-natives-olivenoel-extra-naturtrueb/p/4305615990958',\n",
       " 'https://www.rossmann.de/de/lebensmittel-waterdrop-microdrink-youth/p/9120077850245',\n",
       " 'https://www.rossmann.de/de/lebensmittel-pufuletti-bio-mais-stangen-mit-hirse/p/4260073358965',\n",
       " 'https://www.rossmann.de/de/lebensmittel-waterdrop-microdrink-breeze/p/9120125314019',\n",
       " 'https://www.rossmann.de/de/lebensmittel-alnatura-origin-bio-griechisches-natives-olivenoel/p/4104420146020',\n",
       " 'https://www.rossmann.de/de/lebensmittel-alnatura-bio-rote-linsen-suppe/p/4104420205482',\n",
       " 'https://www.rossmann.de/de/lebensmittel-hitschies-saure-drachenzungen-blau-fruchtgummi/p/4003840008751',\n",
       " 'https://www.rossmann.de/de/lebensmittel-bahlsen-leibniz-minis-choco/p/4017100206009',\n",
       " 'https://www.rossmann.de/de/lebensmittel-alnatura-bio-kraeuter-meersalz/p/4104420235359',\n",
       " 'https://www.rossmann.de/de/lebensmittel-alnatura-bio-fusilli-no-19/p/4104420240407',\n",
       " 'https://www.rossmann.de/de/lebensmittel-enerbio-dinkel-gepufft/p/4068134040428',\n",
       " 'https://www.rossmann.de/de/lebensmittel-enerbio-kokosoel-nativ-naturland/p/4305615896113',\n",
       " 'https://www.rossmann.de/de/lebensmittel-waterdrop-microdrink-relax/p/9120077850252',\n",
       " 'https://www.rossmann.de/de/lebensmittel-alnatura-bio-hummus-gegrilltes-gemuese/p/4104420224957',\n",
       " 'https://www.rossmann.de/de/lebensmittel-mimis-garden-bio-gluecksbaellchen-himbeere-und-chia/p/4260475160012',\n",
       " 'https://www.rossmann.de/de/lebensmittel-griesson-cookies-classic/p/4001518112854',\n",
       " 'https://www.rossmann.de/de/lebensmittel-melitta-auslese-klassisch-gemahlen/p/4002720002261',\n",
       " 'https://www.rossmann.de/de/lebensmittel-wellmix-riegel-vanille/p/4305615776811',\n",
       " 'https://www.rossmann.de/de/lebensmittel-just-taste-bio-kichererbsen-soja-fettuccine/p/4260651480033',\n",
       " 'https://www.rossmann.de/de/lebensmittel-koro-veganer-spekulatius-aufstrich/p/4260718291176',\n",
       " 'https://www.rossmann.de/de/lebensmittel-funny-frisch-frit-sticks-ungarisch/p/4003586004017',\n",
       " 'https://www.rossmann.de/de/lebensmittel-alnatura-bio-tomatensauce-gegrilltes-gemuese/p/4104420213555',\n",
       " 'https://www.rossmann.de/de/lebensmittel-alnatura-bio-apfelmark-bioland/p/4104420228030',\n",
       " 'https://www.rossmann.de/de/lebensmittel-alnatura-bio-sticks-rote-bete-und-meersalz/p/4104420228535',\n",
       " 'https://www.rossmann.de/de/lebensmittel-pringles-sour-cream-und-onion-chips/p/5053990127740',\n",
       " 'https://www.rossmann.de/de/lebensmittel-3bears-overnight-oats-banana-split/p/4260462984911',\n",
       " 'https://www.rossmann.de/de/lebensmittel-alnatura-bio-origin-gruene-oliven-ohne-stein/p/4104420211827',\n",
       " 'https://www.rossmann.de/de/lebensmittel-alnatura-bio-berglinse-tomate-balsamico-aufstrich/p/4104420237773',\n",
       " 'https://www.rossmann.de/de/lebensmittel-enerbio-schoko-reiswaffeln-vollmilch/p/4305615677279',\n",
       " 'https://www.rossmann.de/de/lebensmittel-genuss-plus-leinsamen-geschrotet/p/4305615839813',\n",
       " 'https://www.rossmann.de/de/lebensmittel-esn-designer-whey-protein-vanilla-milk-flavor/p/4250519647432',\n",
       " 'https://www.rossmann.de/de/lebensmittel-wrigleys-airwaves-kaugummi-dragees-cool-cassis/p/4009900537698',\n",
       " 'https://www.rossmann.de/de/lebensmittel-nescafe-dolce-gusto-dallmayr-prodomo-kaffeekapseln/p/7613033091391',\n",
       " 'https://www.rossmann.de/de/lebensmittel-wellmix-vegan-riegel-chocolate-brownie/p/4305615982151',\n",
       " 'https://www.rossmann.de/de/lebensmittel-enerbio-bio-dinkel-crunchy-bioland/p/4305615943909',\n",
       " 'https://www.rossmann.de/de/lebensmittel-esn-designer-bar-hazelnut-nougat-riegel/p/4250519646527',\n",
       " 'https://www.rossmann.de/de/ideenwelt-ankerkraut-flavour-duo/p/4062988841880',\n",
       " 'https://www.rossmann.de/de/lebensmittel-alnatura-bio-gruener-tee-sencha/p/4104420036826',\n",
       " 'https://www.rossmann.de/de/lebensmittel-alnavit-bio-helle-broetchen/p/0000042413233',\n",
       " 'https://www.rossmann.de/de/lebensmittel-wrigleys-extra-professional-kaugummi-dragees-spearmint/p/4009900544245',\n",
       " 'https://www.rossmann.de/de/lebensmittel-wellmix-balance-vitalkost-vanille-geschmack/p/4305615601533',\n",
       " 'https://www.rossmann.de/de/lebensmittel-enerbio-tahin-sesammus/p/4305615820071',\n",
       " 'https://www.rossmann.de/de/lebensmittel-enerbio-rote-bete-meerrettich-gemueseaufstrich/p/4305615968247',\n",
       " 'https://www.rossmann.de/de/lebensmittel-alnatura-bio-dinkel-locken-bioland/p/4104420207516',\n",
       " 'https://www.rossmann.de/de/lebensmittel-enerbio-couscous-salat-linse-und-curry/p/4068134036520',\n",
       " 'https://www.rossmann.de/de/lebensmittel-enerbio-protein-balls-cashew-und-kakao/p/4305615678757',\n",
       " 'https://www.rossmann.de/de/lebensmittel-koro-bio-dattel-cashew-creme-mit-vanille/p/4255582808872',\n",
       " 'https://www.rossmann.de/de/lebensmittel-kings-crown-bio-matcha-pulver/p/4305615641614',\n",
       " 'https://www.rossmann.de/de/lebensmittel-nimm2-lachgummi-happies/p/4014400924510',\n",
       " 'https://www.rossmann.de/de/lebensmittel-alnatura-bio-tortellini-gemuese/p/4104420250192',\n",
       " 'https://www.rossmann.de/de/lebensmittel-alnatura-bio-kartoffelpueree/p/4104420016408',\n",
       " 'https://www.rossmann.de/de/lebensmittel-kings-crown-fruechtetee-waldbeere/p/4305615780320',\n",
       " 'https://www.rossmann.de/de/lebensmittel-wholey-bio-crunchy-choc-sea-salt-granola/p/4260582961694',\n",
       " 'https://www.rossmann.de/de/lebensmittel-alnatura-bio-gemuesebouillon-nachfuellpack/p/4104420133747',\n",
       " 'https://www.rossmann.de/de/lebensmittel-enerbio-kaffee-auslese-gemahlen/p/4305615663746',\n",
       " 'https://www.rossmann.de/de/lebensmittel-3bears-granola-hafer-crunch/p/4260462985901',\n",
       " 'https://www.rossmann.de/de/lebensmittel-enerbio-dinkel-zwieback-bioland/p/4305615798424',\n",
       " 'https://www.rossmann.de/de/lebensmittel-alnatura-bio-sesam-oel-naturland/p/4104420204508',\n",
       " 'https://www.rossmann.de/de/lebensmittel-enerbio-beeren-muesli/p/4305615973258',\n",
       " 'https://www.rossmann.de/de/lebensmittel-koro-bio-erbsenflips-mit-salz/p/4260718290018',\n",
       " 'https://www.rossmann.de/de/lebensmittel-enerbio-rote-bete-saft-naturland/p/4305615650845',\n",
       " 'https://www.rossmann.de/de/lebensmittel-enerbio-vegane-streichwurst/p/4305615968254',\n",
       " 'https://www.rossmann.de/de/lebensmittel-enerbio-mandelmus-braun/p/4305615848815',\n",
       " 'https://www.rossmann.de/de/lebensmittel-enerbio-veganer-proteinriegel-vanille-und-mandel/p/4305615822624',\n",
       " 'https://www.rossmann.de/de/lebensmittel-enerbio-flat-bread/p/4068134036865',\n",
       " 'https://www.rossmann.de/de/lebensmittel-enerbio-kokoschips-natur-naturland/p/4068134005830',\n",
       " 'https://www.rossmann.de/de/lebensmittel-jacobs-3in1-instantkaffee-sticks-caramel/p/8711000400616',\n",
       " 'https://www.rossmann.de/de/lebensmittel-alnatura-bio-dinkel-hafer-crunchy/p/4104420018983',\n",
       " 'https://www.rossmann.de/de/lebensmittel-enerbio-ahornsirup-grad-a/p/4305615666921',\n",
       " 'https://www.rossmann.de/de/lebensmittel-alnatura-alnatura-zitronensaft-075l/p/4104420228986',\n",
       " 'https://www.rossmann.de/de/lebensmittel-alnatura-bio-cashews-geroestet-und-gesalzen/p/4104420057364',\n",
       " 'https://www.rossmann.de/de/lebensmittel-alnatura-bio-hafer-riegel-kakao/p/4104420209466',\n",
       " 'https://www.rossmann.de/de/lebensmittel-enerbio-rohrohrzucker/p/4305615972534',\n",
       " 'https://www.rossmann.de/de/lebensmittel-nescafe-dolce-gusto-latte-macchiato-kaffeekapseln/p/7613037491173',\n",
       " 'https://www.rossmann.de/de/lebensmittel-enerbio-reis-waffeln-meersalz/p/4305615676838',\n",
       " 'https://www.rossmann.de/de/lebensmittel-wellmix-balance-shake-chocolate-dream/p/4305615601311',\n",
       " 'https://www.rossmann.de/de/lebensmittel-enerbio-linsen-chips-paprika/p/4305615671307',\n",
       " 'https://www.rossmann.de/de/lebensmittel-red-band-fruchtgummi-assortie-family-beutel/p/8713800102875',\n",
       " 'https://www.rossmann.de/de/lebensmittel-wellmix-balance-shake-creamy-vanilla/p/4305615601298',\n",
       " 'https://www.rossmann.de/de/lebensmittel-alnatura-alnatura-schokopudding-3x46g/p/4104420140622',\n",
       " 'https://www.rossmann.de/de/lebensmittel-knoppers-erdnussriegel/p/4014400929355',\n",
       " 'https://www.rossmann.de/de/lebensmittel-funny-frisch-erdnuss-flippies/p/4003586107251',\n",
       " 'https://www.rossmann.de/de/haushalt-sodastream-lipton-ice-tea-pfirsich-sirup/p/8719128117836',\n",
       " 'https://www.rossmann.de/de/lebensmittel-naughty-nuts-bio-cashewmus-raspberry/p/4270002232136',\n",
       " 'https://www.rossmann.de/de/lebensmittel-jacobs-3in1-instantkaffee-sticks/p/8711000506325',\n",
       " 'https://www.rossmann.de/de/lebensmittel-koro-bio-kokosmilch/p/4260654785234',\n",
       " 'https://www.rossmann.de/de/lebensmittel-alnavit-bio-schoko-cookies/p/4260546670112',\n",
       " 'https://www.rossmann.de/de/lebensmittel-teekanne-fruechtetee-persischer-granatapfel/p/4009300011941',\n",
       " 'https://www.rossmann.de/de/lebensmittel-alnatura-bio-tahin-sesammus/p/4104420177673',\n",
       " 'https://www.rossmann.de/de/lebensmittel-alnatura-bio-knabber-igel-sesam-bioland/p/4104420056046',\n",
       " 'https://www.rossmann.de/de/lebensmittel-genuss-plus-pflaumen-fein-und-fruchtig/p/4305615839660',\n",
       " 'https://www.rossmann.de/de/lebensmittel-enerbio-vegane-bolognese-sauce/p/4068134024046',\n",
       " 'https://www.rossmann.de/de/lebensmittel-knoppers-nussriegel/p/4014400929065',\n",
       " 'https://www.rossmann.de/de/lebensmittel-enerbio-erdbeerstuecke-in-vollmilchschokolade/p/4068134013484',\n",
       " 'https://www.rossmann.de/de/lebensmittel-enerbio-kakao-schwach-entoelt/p/4305615993362',\n",
       " 'https://www.rossmann.de/de/lebensmittel-das-exquisite-minze-zartbitter-schokolade/p/4305615838861',\n",
       " 'https://www.rossmann.de/de/lebensmittel-enerbio-quinoa-gepufft/p/4305615663968',\n",
       " 'https://www.rossmann.de/de/lebensmittel-naschmonster-pufuletti/p/4260073358415',\n",
       " 'https://www.rossmann.de/de/lebensmittel-ferrero-kinder-schokolade/p/0000080177609',\n",
       " 'https://www.rossmann.de/de/lebensmittel-enerbio-vegane-fruechte/p/4305615676883',\n",
       " 'https://www.rossmann.de/de/lebensmittel-kings-crown-bio-gruener-tee-matcha/p/4305615641577',\n",
       " 'https://www.rossmann.de/de/lebensmittel-ovomaltine-crunchy-cream/p/7612100909591',\n",
       " 'https://www.rossmann.de/de/lebensmittel-nescafe-dolce-gusto-kapseln-crema-grande/p/8445290456410',\n",
       " 'https://www.rossmann.de/de/lebensmittel-nescafe-dolce-gusto-cappuccino-kaffeekapseln/p/7613036306294',\n",
       " 'https://www.rossmann.de/de/lebensmittel-alnatura-bio-linsen-flips-meersalz-und-pfeffer/p/4104420206656',\n",
       " 'https://www.rossmann.de/de/lebensmittel-storck-werthers-original-werthers-original-sahnebonbons/p/4014400908923',\n",
       " 'https://www.rossmann.de/de/lebensmittel-mars-multipack/p/5000159560498',\n",
       " 'https://www.rossmann.de/de/lebensmittel-das-exquisite-erlesene-florentiner/p/4305615839011',\n",
       " 'https://www.rossmann.de/de/lebensmittel-enerbio-kokos-cookies-bioland/p/4305615780825',\n",
       " 'https://www.rossmann.de/de/lebensmittel-enerbio-helle-seitan-bratwurst/p/4068134036483',\n",
       " 'https://www.rossmann.de/de/lebensmittel-enerbio-kichererbsen-spirelli/p/4305615670218',\n",
       " 'https://www.rossmann.de/de/lebensmittel-kings-crown-rooibostee-sahne-karamell/p/4305615641430',\n",
       " 'https://www.rossmann.de/de/lebensmittel-wiebold-meisterliche-confiserie-trueffel/p/4003164134976',\n",
       " 'https://www.rossmann.de/de/lebensmittel-enerbio-brownies-backmischung/p/4305615809090',\n",
       " 'https://www.rossmann.de/de/lebensmittel-enerbio-powerstation/p/4305615663845',\n",
       " 'https://www.rossmann.de/de/lebensmittel-alnatura-bio-vegetarische-soja-bolognese/p/4104420249189',\n",
       " 'https://www.rossmann.de/de/lebensmittel-genuss-plus-pistazien/p/4305615839387',\n",
       " 'https://www.rossmann.de/de/lebensmittel-enerbio-grissini-classic/p/4068134040275',\n",
       " 'https://www.rossmann.de/de/lebensmittel-maxinutrition-creamy-core-protein-bar-chocolate-fudge-vegan/p/4061289006073',\n",
       " 'https://www.rossmann.de/de/lebensmittel-turtle-bio-schokokissen-mit-haselnussfuellung/p/5425038430417',\n",
       " 'https://www.rossmann.de/de/lebensmittel-alnatura-bio-erdbeere/p/4104420037441',\n",
       " 'https://www.rossmann.de/de/lebensmittel-just-taste-bio-mungo-edamame-thai-spices-tasty-meal/p/4260651480484',\n",
       " 'https://www.rossmann.de/de/lebensmittel-genuss-plus-nuss-riegel-karamell-meersalz/p/4305615839745',\n",
       " 'https://www.rossmann.de/de/lebensmittel-penrosa-penrosa-blanco-sauvignon-blanc---verdejo/p/8410849001748',\n",
       " 'https://www.rossmann.de/de/lebensmittel-lab-lab-red/p/5604424260009',\n",
       " 'https://www.rossmann.de/de/lebensmittel-jelly-belly-the-jelly-bean-factory-36-huge-flavours/p/0745092015456',\n",
       " 'https://www.rossmann.de/de/lebensmittel-alnatura-bio-gelbe-linsen/p/4104420249875',\n",
       " 'https://www.rossmann.de/de/lebensmittel-funny-frisch-pom-baer-original/p/4000522105210',\n",
       " 'https://www.rossmann.de/de/lebensmittel-hitschies-schnuere-apfel-fruchtgummi/p/4003840008881',\n",
       " 'https://www.rossmann.de/de/lebensmittel-enerbio-gold-hirse/p/4305615843032',\n",
       " 'https://www.rossmann.de/de/lebensmittel-koro-bio-erdnussmus/p/4260335836354',\n",
       " 'https://www.rossmann.de/de/lebensmittel-alnatura-bio-pudding-bourbon-vanille/p/4104420140608',\n",
       " 'https://www.rossmann.de/de/lebensmittel-enerbio-proteinriegel-salted-caramel/p/4305615986364',\n",
       " 'https://www.rossmann.de/de/lebensmittel-treets-peanuts/p/4000281332513',\n",
       " 'https://www.rossmann.de/de/lebensmittel-enerbio-ghee-naturland/p/4305615917818',\n",
       " 'https://www.rossmann.de/de/lebensmittel-enerbio-kirschen-in-weisser-joghurtschoko/p/4305615677156',\n",
       " 'https://www.rossmann.de/de/lebensmittel-all-stars-creatine-monohydrate-pulver/p/4250031332939',\n",
       " 'https://www.rossmann.de/de/lebensmittel-koro-veganes-muehlen-filet-typ-haehnchen/p/4000405005484',\n",
       " 'https://www.rossmann.de/de/lebensmittel-alnatura-bio-pinienkerne/p/4104420026766',\n",
       " 'https://www.rossmann.de/de/lebensmittel-enerbio-5-korn-flocken/p/4305615664132',\n",
       " 'https://www.rossmann.de/de/lebensmittel-enerbio-raw-chocolate-kakaonibs-und-meersalz/p/4305615666730',\n",
       " 'https://www.rossmann.de/de/lebensmittel-powerbar-protein-plus-low-sugar-riegel-mit-chocolate-brownie-flavour/p/4029679900042',\n",
       " 'https://www.rossmann.de/de/lebensmittel-penrosa-penrosa-rosado-tempranillo/p/8410849001618',\n",
       " 'https://www.rossmann.de/de/lebensmittel-enerbio-ganze-himbeeren-in-weisser-schokolade-mit-beerengeschmack/p/4305615995335',\n",
       " 'https://www.rossmann.de/de/lebensmittel-koro-bio-mango-curry-aufstrich/p/4255582807028',\n",
       " 'https://www.rossmann.de/de/lebensmittel-waterdrop-microdrink-flair/p/9120117505340',\n",
       " 'https://www.rossmann.de/de/lebensmittel-das-exquisite-mozartkugeln/p/4305615839134',\n",
       " 'https://www.rossmann.de/de/lebensmittel-enerbio-kokoswasser/p/4305615972343',\n",
       " 'https://www.rossmann.de/de/lebensmittel-enerbio-erdbeer-crunchy-bioland/p/4305615943930',\n",
       " 'https://www.rossmann.de/de/lebensmittel-kings-crown-fruechtetee-orange-des-suedens/p/4305615636993',\n",
       " 'https://www.rossmann.de/de/lebensmittel-bahlsen-butterkeks/p/4017100370007',\n",
       " 'https://www.rossmann.de/de/lebensmittel-koro-protein-bar-deluxe-pistazienbutter/p/4255582800487',\n",
       " 'https://www.rossmann.de/de/lebensmittel-enerbio-seitan-wild-west-burger/p/4305615835860',\n",
       " 'https://www.rossmann.de/de/lebensmittel-enerbio-schoko-muesli/p/4305615663937',\n",
       " 'https://www.rossmann.de/de/lebensmittel-enerbio-erdnuss-sate-sauce/p/4068134004727',\n",
       " 'https://www.rossmann.de/de/lebensmittel-genuss-plus-datteln/p/4305615839646',\n",
       " 'https://www.rossmann.de/de/lebensmittel-alnatura-bio-shiitake/p/4104420173194',\n",
       " 'https://www.rossmann.de/de/lebensmittel-maxinutrition-maxflavour-lemon-cheesecake/p/4061289008213',\n",
       " 'https://www.rossmann.de/de/lebensmittel-teekanne-fruechtetee-tuerkischer-apfel/p/4009300008033',\n",
       " 'https://www.rossmann.de/de/lebensmittel-kings-crown-fruechtetee-himbeer-vanille/p/4305615636979',\n",
       " 'https://www.rossmann.de/de/lebensmittel-wellmix-riegel-white-caramel-crisp/p/4305615685571',\n",
       " 'https://www.rossmann.de/de/lebensmittel-koro-vegane-pistaziencreme/p/4255582802313',\n",
       " 'https://www.rossmann.de/de/lebensmittel-jacobs-2in1-instantkaffee-sticks/p/8711000506417',\n",
       " 'https://www.rossmann.de/de/lebensmittel-alnatura-bio-milchreis/p/4104420220232',\n",
       " 'https://www.rossmann.de/de/lebensmittel-enerbio-porridge-basis-bioland/p/4305615780917',\n",
       " 'https://www.rossmann.de/de/lebensmittel-enerbio-caffe-crema-ganze-bohne/p/4305615663777',\n",
       " 'https://www.rossmann.de/de/lebensmittel-alnatura-bio-paprika-cashew-aufstrich/p/4104420035942',\n",
       " 'https://www.rossmann.de/de/lebensmittel-storck-merci-together/p/4014400930993',\n",
       " 'https://www.rossmann.de/de/lebensmittel-alnatura-bio-streichcreme-curry-mango-papaya/p/4104420239012',\n",
       " 'https://www.rossmann.de/de/lebensmittel-kings-crown-kraeutertee-pfefferminze/p/4305615636924',\n",
       " 'https://www.rossmann.de/de/lebensmittel-capri-sun-sirup--vitamine-kirsche/p/4000177031087',\n",
       " 'https://www.rossmann.de/de/lebensmittel-enerbio-erdnusskerne/p/4305615878850',\n",
       " 'https://www.rossmann.de/de/lebensmittel-maxinutrition-creamy-core-protein-bar-chocolate-peanut-caramel-vegan/p/4061289006103',\n",
       " 'https://www.rossmann.de/de/lebensmittel-alnatura-bio-leinoel-nativ/p/4104420025929',\n",
       " 'https://www.rossmann.de/de/lebensmittel-alnatura-bio-zartbitter-knusper-muesli/p/4104420236127',\n",
       " 'https://www.rossmann.de/de/lebensmittel-koro-reiscracker-fried-chilli/p/4260654786057',\n",
       " 'https://www.rossmann.de/de/lebensmittel-wholey-bio-cinna-rollies/p/4260582961502',\n",
       " 'https://www.rossmann.de/de/lebensmittel-alnatura-bio-saatenmischung/p/4104420250710',\n",
       " 'https://www.rossmann.de/de/lebensmittel-sarotti-schwarze-herren-schokolade-edelbitter/p/4030387760637',\n",
       " 'https://www.rossmann.de/de/lebensmittel-wellmix-balance-shake-berry-star/p/4305615601335',\n",
       " 'https://www.rossmann.de/de/lebensmittel-enerbio-paprika-edelsuess-gemahlen-naturland/p/4305615934372',\n",
       " 'https://www.rossmann.de/de/lebensmittel-enerbio-mandelmehl/p/4305615939964',\n",
       " 'https://www.rossmann.de/de/lebensmittel-powerbar-powergel-original-lemon-lime-flavour/p/4029679672482',\n",
       " 'https://www.rossmann.de/de/lebensmittel-alnatura-bio-dinkel-gepufft/p/4104420018709',\n",
       " 'https://www.rossmann.de/de/lebensmittel-genuss-plus-maracuja-coconut-rohkost-riegel/p/4305615887111',\n",
       " 'https://www.rossmann.de/de/lebensmittel-hafervoll-bio-sweet-und-salty-almond-haferriegel/p/4064888001319',\n",
       " 'https://www.rossmann.de/de/lebensmittel-koro-bio-agar-agar/p/4260654788426',\n",
       " 'https://www.rossmann.de/de/lebensmittel-bettafsh-tu-nah-fischersatz/p/4260748511077',\n",
       " 'https://www.rossmann.de/de/lebensmittel-enerbio-basmati-reis-naturland/p/4305615830582',\n",
       " 'https://www.rossmann.de/de/lebensmittel-laudatio-kaffeegenuss-ganze-bohne-caffe-crema/p/4305615823409',\n",
       " 'https://www.rossmann.de/de/lebensmittel-enerbio-smoothie-sonnenaufgang/p/4305615979465',\n",
       " 'https://www.rossmann.de/de/lebensmittel-alnatura-bio-datteln-entsteint/p/4104420024663',\n",
       " 'https://www.rossmann.de/de/lebensmittel-enerbio-amaranth-gepufft/p/4305615922201',\n",
       " 'https://www.rossmann.de/de/lebensmittel-louis-fernandet-louis-fernandet-the-taste-of-vanille-und-rhabarber-alkoholfrei/p/4001744067225',\n",
       " 'https://www.rossmann.de/de/lebensmittel-das-exquisite-meeresfruechte/p/4305615839028',\n",
       " 'https://www.rossmann.de/de/lebensmittel-kitkat-4er-multipack/p/7613287202833',\n",
       " 'https://www.rossmann.de/de/lebensmittel-oatsome-bio-feelgood-spreads-sunny-coco-brotaufstrich/p/4260686520940',\n",
       " 'https://www.rossmann.de/de/lebensmittel-genuss-plus-protein-balls/p/4305615883823',\n",
       " 'https://www.rossmann.de/de/lebensmittel-alnatura-bio-schnelle-mischung-gerste-linsen-kichererbsen/p/4104420232006',\n",
       " 'https://www.rossmann.de/de/lebensmittel-alnavit-bio-gnocchi-mit-quinoa/p/0000042354345',\n",
       " 'https://www.rossmann.de/de/lebensmittel-alnatura-bio-kraeuter-tomatensauce/p/4104420213517',\n",
       " 'https://www.rossmann.de/de/lebensmittel-enerbio-superfoodriegel-kakao-und-kakaonibs/p/4305615678771',\n",
       " 'https://www.rossmann.de/de/lebensmittel-ritter-sport-schokowuerfel-dankeschoen-box/p/4000417652706',\n",
       " 'https://www.rossmann.de/de/lebensmittel-hitschies-schnuere-fruchtgummi/p/4003840008188',\n",
       " 'https://www.rossmann.de/de/lebensmittel-alnavit-bio-schoko-waffel-riegel/p/4260012979725',\n",
       " 'https://www.rossmann.de/de/lebensmittel-enerbio-energy-balls-kokos-und-cranberry/p/4305615678740',\n",
       " 'https://www.rossmann.de/de/lebensmittel-enerbio-sirup-holunderbluete-bioland/p/4305615875279',\n",
       " 'https://www.rossmann.de/de/lebensmittel-alnatura-kichererbsen/p/4104420230224',\n",
       " 'https://www.rossmann.de/de/lebensmittel-koro-bio-hagebutten-pulver/p/4260335833391',\n",
       " 'https://www.rossmann.de/de/lebensmittel-enerbio-superfood-topping/p/4305615664194',\n",
       " 'https://www.rossmann.de/de/lebensmittel-alnatura-bio-haferflocken-feinblatt/p/4104420021921',\n",
       " 'https://www.rossmann.de/de/lebensmittel-pufuletti-bio-maissnack/p/4260073358941',\n",
       " 'https://www.rossmann.de/de/lebensmittel-louis-fernandet-louis-fernandet-alkoholfrei/p/4001744071215',\n",
       " 'https://www.rossmann.de/de/lebensmittel-alnatura-bio-reiswaffeln-rote-bete-apfel/p/4104420188174',\n",
       " 'https://www.rossmann.de/de/lebensmittel-enerbio-fruechte-muesli/p/4305615664064',\n",
       " 'https://www.rossmann.de/de/lebensmittel-enerbio-leinsamen-gold/p/4305615664200',\n",
       " 'https://www.rossmann.de/de/lebensmittel-genuss-plus-reiswaffeln-zartbitter/p/4305615839691',\n",
       " 'https://www.rossmann.de/de/lebensmittel-genuss-plus-cashewkerne/p/4305615839950',\n",
       " 'https://www.rossmann.de/de/lebensmittel-nimm2-lachgummi-softies-fruchtmix/p/4014400916850',\n",
       " 'https://www.rossmann.de/de/lebensmittel-das-exquisite-hafertaler-mit-schokolade/p/4305615839110',\n",
       " 'https://www.rossmann.de/de/lebensmittel-alnatura-bio-weizenmehl-type-550-bioland/p/4104420237049',\n",
       " 'https://www.rossmann.de/de/lebensmittel-hans-brainfood-bio-energieriegel-apfelstrudel/p/4260599382321',\n",
       " 'https://www.rossmann.de/de/lebensmittel-funny-frisch-chipsfrisch-chakalaka/p/4003586101082',\n",
       " 'https://www.rossmann.de/de/lebensmittel-alnatura-bio-weizenkleie/p/4104420230934',\n",
       " 'https://www.rossmann.de/de/lebensmittel-enerbio-mandel-kerne/p/4305615678320',\n",
       " 'https://www.rossmann.de/de/lebensmittel-alnatura-bio-maismehl/p/4104420016767',\n",
       " 'https://www.rossmann.de/de/lebensmittel-turtle-bio-color-loops/p/5425038430387',\n",
       " 'https://www.rossmann.de/de/lebensmittel-alnatura-bio-mandelmus-braun/p/4104420179721',\n",
       " 'https://www.rossmann.de/de/lebensmittel-enerbio-brotbackmischung-haferbrot-vollkorn/p/4305615940342',\n",
       " 'https://www.rossmann.de/de/lebensmittel-alnatura-bio-rote-linsen-spirelli/p/4104420221536',\n",
       " 'https://www.rossmann.de/de/lebensmittel-enerbio-belugalinse-paprika-aufstrich/p/4305615967998',\n",
       " 'https://www.rossmann.de/de/lebensmittel-whole-earth-bio-super-creamy-peanut-butter/p/5013665116837',\n",
       " 'https://www.rossmann.de/de/lebensmittel-enerbio-mandel-creme/p/4305615998732',\n",
       " 'https://www.rossmann.de/de/lebensmittel-rawbite-bio-frucht-nuss-riegel-apple-cinnamon/p/5712840020067',\n",
       " 'https://www.rossmann.de/de/lebensmittel-enerbio-rapsoel-nativ/p/4305615996394',\n",
       " 'https://www.rossmann.de/de/lebensmittel-jacobs-cronat-gold-instant/p/4000508040221',\n",
       " 'https://www.rossmann.de/de/lebensmittel-enerbio-artischocken-mit-knoblauch/p/4305615995380',\n",
       " 'https://www.rossmann.de/de/lebensmittel-lindt-mini-pralines-botschaft/p/4000539106385',\n",
       " 'https://www.rossmann.de/de/lebensmittel-kings-crown-fruechtetee-erdbeer-sahne/p/4305615764207',\n",
       " 'https://www.rossmann.de/de/lebensmittel-enerbio-creamy-balls-nuss-nougat/p/4305615754338',\n",
       " 'https://www.rossmann.de/de/lebensmittel-funny-frisch-chipsfrisch-sour-cream/p/4003586101723',\n",
       " 'https://www.rossmann.de/de/lebensmittel-trolli-saure-gluehwuermchen/p/4000512463429',\n",
       " 'https://www.rossmann.de/de/lebensmittel-enerbio-barbecue-sauce/p/4068134036445',\n",
       " 'https://www.rossmann.de/de/lebensmittel-foodspring-protein-cream-haselnuss-und-whey-duo/p/4260363487368',\n",
       " 'https://www.rossmann.de/de/lebensmittel-enerbio-farfalle-tricolore/p/4305615950327',\n",
       " 'https://www.rossmann.de/de/lebensmittel-enerbio-knusperbrot-reis-und-buchweizen/p/4305615677842',\n",
       " 'https://www.rossmann.de/de/lebensmittel-enerbio-schwarzer-pfeffer-ganz-naturland/p/4305615934365',\n",
       " 'https://www.rossmann.de/de/lebensmittel-oatly-hafer-barista-edition/p/7394376616501',\n",
       " 'https://www.rossmann.de/de/lebensmittel-alnatura-bio-roggen-vollkorn-mehl/p/4104420236417',\n",
       " 'https://www.rossmann.de/de/lebensmittel-genuss-plus-mandel-nuss-schnitte/p/4305615878812',\n",
       " 'https://www.rossmann.de/de/lebensmittel-nescafe-dolce-gusto-kapseln-latte-macchiato-caramel/p/7613037788884',\n",
       " 'https://www.rossmann.de/de/lebensmittel-alnatura-bio-brennnessel-tee/p/4104420036789',\n",
       " 'https://www.rossmann.de/de/lebensmittel-3bears-overnight-oats-koko-kakao/p/4260462984522',\n",
       " 'https://www.rossmann.de/de/lebensmittel-enerbio-oliven-mix-in-kraeutern/p/4305615900964',\n",
       " 'https://www.rossmann.de/de/lebensmittel-powerbar-protein-plus-riegel-vanilla-flavour/p/4029679996885',\n",
       " 'https://www.rossmann.de/de/lebensmittel-ferrero-hanuta-riegel-mit-milch-und-nuss/p/8000500331798',\n",
       " 'https://www.rossmann.de/de/lebensmittel-alnatura-bio-haferkleie-mit-keim-bioland/p/4104420014459',\n",
       " 'https://www.rossmann.de/de/lebensmittel-madegood-bio-cookies-vanilla/p/0687456284347',\n",
       " 'https://www.rossmann.de/de/lebensmittel-alnatura-bio-kokos-geraspelt/p/4104420015289',\n",
       " 'https://www.rossmann.de/de/lebensmittel-enerbio-vollkorn-basmati-reis-naturland/p/4305615924342',\n",
       " 'https://www.rossmann.de/de/lebensmittel-enerbio-ceylon-zimt-gemahlen-naturland/p/4305615934426',\n",
       " 'https://www.rossmann.de/de/lebensmittel-wrigleys-extra-professional-kaugummi-dragees-white/p/4009900543989',\n",
       " 'https://www.rossmann.de/de/lebensmittel-alnatura-bio-pflaumenmus/p/4104420045668',\n",
       " 'https://www.rossmann.de/de/lebensmittel-alnatura-bio-passierte-tomaten/p/4104420250345',\n",
       " 'https://www.rossmann.de/de/lebensmittel-enerbio-apfel-chips/p/4305615678351',\n",
       " 'https://www.rossmann.de/de/lebensmittel-alnatura-bio-pesto-arrabbiata/p/0000042270980',\n",
       " 'https://www.rossmann.de/de/lebensmittel-das-exquisite-schwedische-hafertaler/p/4305615617367',\n",
       " 'https://www.rossmann.de/de/lebensmittel-alnatura-bio-rote-linsen/p/4104420229426',\n",
       " 'https://www.rossmann.de/de/lebensmittel-koro-moritz-protein-bar/p/4260654781922',\n",
       " 'https://www.rossmann.de/de/lebensmittel-enerbio-akazienhonig/p/4305615677422',\n",
       " 'https://www.rossmann.de/de/lebensmittel-alnatura-bio-spaghetti-no-3/p/4104420237001',\n",
       " 'https://www.rossmann.de/de/lebensmittel-alnatura-bio-fruchtaufstrich-erdbeere-mit-agavendicksaft/p/4104420045941',\n",
       " 'https://www.rossmann.de/de/lebensmittel-enerbio-barista-drink-hafer/p/4305615950242',\n",
       " 'https://www.rossmann.de/de/lebensmittel-maxinutrition-creamy-core-protein-bar-peanut-caramel/p/4061289004482',\n",
       " 'https://www.rossmann.de/de/lebensmittel-ritter-sport-alpenmilch-tafelschokolade/p/4000417601810',\n",
       " 'https://www.rossmann.de/de/lebensmittel-3bears-porridge-feiner-kakao/p/4260462980951',\n",
       " 'https://www.rossmann.de/de/lebensmittel-seeberger-crunchy-fava-snack/p/4008258460009',\n",
       " 'https://www.rossmann.de/de/lebensmittel-alnatura-bio-knaecke-brot-roggen-und-dinkel/p/4104420016088',\n",
       " 'https://www.rossmann.de/de/lebensmittel-enerbio-gemuesesaft-naturland/p/4305615650821',\n",
       " 'https://www.rossmann.de/de/lebensmittel-teekanne-fenchel-anis-kuemmel/p/4009300005872',\n",
       " 'https://www.rossmann.de/de/lebensmittel-enerbio-hafer-crunchy-bioland/p/4305615943916',\n",
       " 'https://www.rossmann.de/de/lebensmittel-alnatura-bio-getrocknete-tomaten/p/0000042271017',\n",
       " 'https://www.rossmann.de/de/lebensmittel-alnatura-bio-dinkel-butterkeks/p/4104420209640',\n",
       " 'https://www.rossmann.de/de/lebensmittel-alnatura-bio-sesam-krokant-riegel/p/4104420221383',\n",
       " 'https://www.rossmann.de/de/lebensmittel-alnatura-bio-schoko-nuss-creme/p/4104420180642',\n",
       " 'https://www.rossmann.de/de/lebensmittel-wrigleys-extra-professional-kaugummi-dragees-fresh-strong-mint/p/4009900544276',\n",
       " 'https://www.rossmann.de/de/lebensmittel-veganz-bio-protein-choc-bar-white-almond-crisp/p/4251725801380',\n",
       " 'https://www.rossmann.de/de/lebensmittel-alnatura-bio-streichcreme-aubergine/p/4104420238893',\n",
       " 'https://www.rossmann.de/de/lebensmittel-kings-crown-schwarzer-tee-earl-grey/p/4305615641973',\n",
       " 'https://www.rossmann.de/de/lebensmittel-teekanne-fruechtetee-spanische-orange/p/4009300009863',\n",
       " 'https://www.rossmann.de/de/lebensmittel-alnatura-brotchips-knoblauch-und-kraeuter/p/4104420249318',\n",
       " 'https://www.rossmann.de/de/lebensmittel-turtle-bio-marshmallow-crunchies/p/5425038430455',\n",
       " 'https://www.rossmann.de/de/lebensmittel-ovomaltine-crunchy-schokoladentafel/p/7612100908235',\n",
       " 'https://www.rossmann.de/de/lebensmittel-enerbio-cashewmus/p/4305615678160',\n",
       " 'https://www.rossmann.de/de/lebensmittel-enerbio-haferflocken-grossblatt/p/4068134036742',\n",
       " 'https://www.rossmann.de/de/ideenwelt-ankerkraut-steak-duo/p/4062988841873',\n",
       " 'https://www.rossmann.de/de/lebensmittel-enerbio-soft-aprikosen/p/4305615822549',\n",
       " 'https://www.rossmann.de/de/lebensmittel-mia-vita-mia-vita-vino-rosso-italiano/p/8032625331285',\n",
       " 'https://www.rossmann.de/de/lebensmittel-alnatura-bio-marzipan-riegel-zartbitter/p/0000042214458',\n",
       " 'https://www.rossmann.de/de/lebensmittel-funny-frisch-chipsfrisch-oriental/p/4003586100399',\n",
       " 'https://www.rossmann.de/de/lebensmittel-wellmix-protein-90-cookies-und-cream/p/4305615693842',\n",
       " 'https://www.rossmann.de/de/lebensmittel-alpia-schoko-fruties/p/4001743760004',\n",
       " 'https://www.rossmann.de/de/lebensmittel-enerbio-gartenkraeuter-frischkaese-alternative/p/4068134019103',\n",
       " 'https://www.rossmann.de/de/lebensmittel-hans-brainfood-bio-kakao-proteinmix/p/4260599380679',\n",
       " 'https://www.rossmann.de/de/lebensmittel-weingut-heinz-pfaffmann-pfaffmann-grauburgunder-limited-edition/p/4250013104615',\n",
       " 'https://www.rossmann.de/de/lebensmittel-tonys-chocolonely-vollmilchschokolade-32-karamell-meersalz/p/8717677338054',\n",
       " 'https://www.rossmann.de/de/lebensmittel-alnavit-bio-hafer-kekse/p/4260546673052',\n",
       " 'https://www.rossmann.de/de/lebensmittel-enerbio-kartoffel-kracher/p/4305615982519',\n",
       " 'https://www.rossmann.de/de/lebensmittel-alnatura-bio-proteinmuesli/p/4104420217027',\n",
       " 'https://www.rossmann.de/de/lebensmittel-enerbio-kalamata-oliven-tapenade/p/4305615975795',\n",
       " 'https://www.rossmann.de/de/lebensmittel-alnatura-bio-schoko-dinkelkugeln-vollmilch/p/4104420054509',\n",
       " 'https://www.rossmann.de/de/lebensmittel-henssler-schnelle-nummer-gewuerz---gewuerzsalz/p/4260737780026',\n",
       " 'https://www.rossmann.de/de/lebensmittel-wellmix-whey-protein-vanille-geschmack/p/4305615723365',\n",
       " 'https://www.rossmann.de/de/lebensmittel-alnatura-bio-cocos-riegel-zartbitter/p/0000042143956',\n",
       " 'https://www.rossmann.de/de/lebensmittel-enerbio-scharfmacher-gewuerzmischung/p/4068134032928',\n",
       " 'https://www.rossmann.de/de/lebensmittel-enerbio-pikanter-veggie-snack-mit-chili/p/4305615677903',\n",
       " 'https://www.rossmann.de/de/gesundheit-em-eukal-hustenbonbons-klassisch/p/4009077024106',\n",
       " 'https://www.rossmann.de/de/lebensmittel-haribo-maoam-kracher/p/4001686536025',\n",
       " 'https://www.rossmann.de/de/lebensmittel-jacobs-3in1-instantkaffee-sticks-milka/p/8711000458723',\n",
       " 'https://www.rossmann.de/de/lebensmittel-enerbio-gemuesebruehe/p/4305615810430',\n",
       " 'https://www.rossmann.de/de/lebensmittel-enerbio-porridge-fruechte-bioland/p/4305615973241',\n",
       " 'https://www.rossmann.de/de/lebensmittel-alnatura-bio-kakaobutter-mild/p/4104420242326',\n",
       " 'https://www.rossmann.de/de/lebensmittel-kings-crown-fruechtetee-kirsch-banane/p/4305615636986',\n",
       " 'https://www.rossmann.de/de/lebensmittel-enerbio-tofu-und-seitan-wiener/p/4305615716770',\n",
       " 'https://www.rossmann.de/de/lebensmittel-lebepur-bio-gerstengras/p/4260159450248',\n",
       " 'https://www.rossmann.de/de/lebensmittel-enerbio-studentenfutter-cranberries/p/4305615918884',\n",
       " 'https://www.rossmann.de/de/lebensmittel-genuss-plus-cashewkerne/p/4305615839349',\n",
       " 'https://www.rossmann.de/de/lebensmittel-wellmix-eaa-ice-tea-lemon-pulver/p/4305615973234',\n",
       " 'https://www.rossmann.de/de/lebensmittel-pringles-classic-paprika-chips/p/5053990162413',\n",
       " 'https://www.rossmann.de/de/lebensmittel-enerbio-sauerkrautsaft/p/4068134013620',\n",
       " 'https://www.rossmann.de/de/lebensmittel-waterdrop-microdrink-boost/p/9120077850214',\n",
       " 'https://www.rossmann.de/de/lebensmittel-de-beukelaer-prinzen-rolle-schoko/p/4001518115541',\n",
       " 'https://www.rossmann.de/de/lebensmittel-nimm2-lachgummi-milchgeister/p/4014400921366',\n",
       " 'https://www.rossmann.de/de/lebensmittel-hitschies-saure-krakenarme-fruchtgummi/p/4003840008720',\n",
       " 'https://www.rossmann.de/de/lebensmittel-nescafe-dolce-gusto-kapseln-espresso/p/7613037929485',\n",
       " 'https://www.rossmann.de/de/lebensmittel-waterdrop-microdrink-focus/p/9120077850221',\n",
       " 'https://www.rossmann.de/de/lebensmittel-wholey-bio-crunchy-original-granola/p/4260582961687',\n",
       " 'https://www.rossmann.de/de/lebensmittel-alnatura-bio-mais-amaranth-waffeln-mit-meersalz/p/4104420139565',\n",
       " 'https://www.rossmann.de/de/lebensmittel-enerbio-kokosraspeln-naturland/p/4068134020444',\n",
       " 'https://www.rossmann.de/de/lebensmittel-genuss-plus-macadamias-geroestet-und-gesalzen/p/4305615839585',\n",
       " 'https://www.rossmann.de/de/lebensmittel-enerbio-mini-dinkel-butterkekse/p/4305615993225',\n",
       " 'https://www.rossmann.de/de/lebensmittel-wellmix-balance-vitalkost-schoko-geschmack/p/4305615601540',\n",
       " 'https://www.rossmann.de/de/lebensmittel-koro-crunchy-mandelmus/p/4260718297963',\n",
       " 'https://www.rossmann.de/de/lebensmittel-alnatura-linguine/p/4104420240469',\n",
       " 'https://www.rossmann.de/de/lebensmittel-heimatgut-bio-popcorn-suess-und-salzig/p/4260350920915',\n",
       " 'https://www.rossmann.de/de/lebensmittel-funny-frisch-chipsfrisch-gesalzen/p/4003586101389',\n",
       " 'https://www.rossmann.de/de/lebensmittel-laudatio-kaffeegenuss-kaffee-pads-caffe-crema/p/4305615823423',\n",
       " 'https://www.rossmann.de/de/lebensmittel-alnatura-bio-ahornsirup-grad-a/p/4104420021013',\n",
       " 'https://www.rossmann.de/de/lebensmittel-enerbio-backpulver/p/4305615851501',\n",
       " 'https://www.rossmann.de/de/lebensmittel-alnatura-bio-soja-sauce-shoyu-art/p/4104420031722',\n",
       " 'https://www.rossmann.de/de/lebensmittel-alnatura-bio-vegane-mini-wiener-aus-seitan-und-tofu/p/0000042267980',\n",
       " 'https://www.rossmann.de/de/lebensmittel-alnatura-bio-dreierlei-minze-tee/p/4104420210271',\n",
       " 'https://www.rossmann.de/de/lebensmittel-alnavit-bio-mandelhoernchen/p/4260012974737',\n",
       " 'https://www.rossmann.de/de/lebensmittel-das-exquisite-erdnussberge-zartbitter/p/4305615839042',\n",
       " 'https://www.rossmann.de/de/lebensmittel-genuss-plus-studentenfutter/p/4305615839448',\n",
       " 'https://www.rossmann.de/de/lebensmittel-enerbio-kartoffelsuppe/p/4305615968490',\n",
       " 'https://www.rossmann.de/de/lebensmittel-maxinutrition-maxflavour-butter-cookie/p/4061289008121',\n",
       " 'https://www.rossmann.de/de/lebensmittel-alnatura-bio-rote-linsen-snack-linsen-dal/p/4104420220478',\n",
       " 'https://www.rossmann.de/de/lebensmittel-wrigleys-extra-professional-kaugummi-dragees-himbeere-granatapfel/p/4009900544177',\n",
       " 'https://www.rossmann.de/de/lebensmittel-enerbio-glutenfreier-hafer-drink/p/4305615783567',\n",
       " 'https://www.rossmann.de/de/lebensmittel-pukka-bio-fruechtetee-wildapfel-und-zimt/p/5060229014238',\n",
       " 'https://www.rossmann.de/de/lebensmittel-alnatura-bio-runde-roemer-haselnusskerne/p/4104420024984',\n",
       " 'https://www.rossmann.de/de/lebensmittel-alnatura-bio-akazienhonig/p/4104420093201',\n",
       " 'https://www.rossmann.de/de/lebensmittel-alnatura-bio-hafer-riegel-heidelbeere/p/4104420225770',\n",
       " 'https://www.rossmann.de/de/lebensmittel-enerbio-basis-muesli/p/4305615664071',\n",
       " 'https://www.rossmann.de/de/lebensmittel-alnatura-bio-condimento-bianco/p/4104420030961',\n",
       " 'https://www.rossmann.de/de/lebensmittel-enerbio-kartoffel-pueree/p/4305615797557',\n",
       " 'https://www.rossmann.de/de/haushalt-sodastream-lipton-ice-tea-zitrone-sirup/p/8719128117843',\n",
       " 'https://www.rossmann.de/de/lebensmittel-laudatio-kaffeegenuss-kaffeehaltiges-getraenkepulver-typ-latte-macchiato-classic/p/4305615892573',\n",
       " 'https://www.rossmann.de/de/lebensmittel-louis-fernandet-louis-fernandet-sekt-trocken/p/4001744071796',\n",
       " 'https://www.rossmann.de/de/lebensmittel-genuss-plus-fruchtschnitte-beere/p/4305615878805',\n",
       " 'https://www.rossmann.de/de/lebensmittel-alnatura-bio-tomatensauce-klassik/p/4104420213593',\n",
       " 'https://www.rossmann.de/de/lebensmittel-koro-bio-flohsamenschalen-99--reinheit/p/4260718298892',\n",
       " 'https://www.rossmann.de/de/lebensmittel-alnatura-bio-lindenblueten-tee/p/4104420220027',\n",
       " 'https://www.rossmann.de/de/lebensmittel-enerbio-kichererbsen/p/4305615666952',\n",
       " 'https://www.rossmann.de/de/lebensmittel-bag-in-box-chardonnay-und-riesling-pfalz/p/4062073029490',\n",
       " 'https://www.rossmann.de/de/lebensmittel-enerbio-saatenbrot-kurkuma-und-hanf/p/4068134004802',\n",
       " 'https://www.rossmann.de/de/lebensmittel-alnatura-bio-fruchtaufstrich-sauerkirsche/p/4104420045804',\n",
       " 'https://www.rossmann.de/de/lebensmittel-alnatura-bio-maiswaffeln-gesalzen/p/4104420054004',\n",
       " 'https://www.rossmann.de/de/lebensmittel-alnatura-bio-dinkel-spaghetti-bioland/p/4104420238466',\n",
       " 'https://www.rossmann.de/de/lebensmittel-marabou-mjoelk-choklad-rolle/p/7310510002122',\n",
       " 'https://www.rossmann.de/de/lebensmittel-rotbaeckchen-immunstark-saft-mini-reisegroesse/p/4004191015849',\n",
       " 'https://www.rossmann.de/de/lebensmittel-bauck-muehle-bio-wunderbrod-backmischung/p/4015637826417',\n",
       " 'https://www.rossmann.de/de/lebensmittel-enerbio-veggie-snack-mit-paprika/p/4305615677897',\n",
       " 'https://www.rossmann.de/de/lebensmittel-enerbio-seitan-bratwurst-chorizo-art/p/4305615686691',\n",
       " 'https://www.rossmann.de/de/lebensmittel-enerbio-apfel-feigen-chutney/p/4068134036858',\n",
       " 'https://www.rossmann.de/de/lebensmittel-enerbio-bio-sauerkirschen-entsteint-naturland/p/4305615996134',\n",
       " 'https://www.rossmann.de/de/lebensmittel-zero-riesling-alkoholfrei/p/4305615915081',\n",
       " 'https://www.rossmann.de/de/lebensmittel-alnatura-bio-gruener-tee-ingwer-lemon/p/4104420139022',\n",
       " 'https://www.rossmann.de/de/lebensmittel-alnatura-bio-joghurt-reiswaffeln/p/4104420232846',\n",
       " 'https://www.rossmann.de/de/lebensmittel-alnatura-bio-penne-rigate-no-22/p/4104420236943',\n",
       " 'https://www.rossmann.de/de/lebensmittel-followfood-thunfisch-filets-natur/p/4250073450639',\n",
       " 'https://www.rossmann.de/de/lebensmittel-madegood-bio-granola-riegel-birthday-cake-flavour/p/0687456214924',\n",
       " 'https://www.rossmann.de/de/lebensmittel-bahlsen-leibniz-cream-choco/p/4017100365416',\n",
       " 'https://www.rossmann.de/de/lebensmittel-alnatura-bio-rooibos-vanille-tee/p/4104420140981',\n",
       " 'https://www.rossmann.de/de/haushalt-rubin-universal-wasserfilter-kartuschen/p/4305615282367',\n",
       " 'https://www.rossmann.de/de/lebensmittel-alnatura-bio-vollrohrzucker/p/4104420024106',\n",
       " 'https://www.rossmann.de/de/lebensmittel-alnatura-bio-kokos-drink-ungesuesst-naturland/p/4104420204225',\n",
       " 'https://www.rossmann.de/de/lebensmittel-alnatura-bio-hafer-riegel-mango/p/4104420238589',\n",
       " 'https://www.rossmann.de/de/lebensmittel-alnatura-bio-tortellini-kaese/p/4104420250239',\n",
       " 'https://www.rossmann.de/de/haushalt-brita-wasserfilter-kartusche-maxtra-pro-extra-kalkschutz/p/4006387122188',\n",
       " 'https://www.rossmann.de/de/lebensmittel-veganz-soja-schnetzel/p/4251725801205',\n",
       " 'https://www.rossmann.de/de/lebensmittel-genuss-plus-cashew-liebt-cranberry/p/4305615839523',\n",
       " 'https://www.rossmann.de/de/lebensmittel-enerbio-dinkel-doppelkeks-kakaocreme-naturland/p/4305615877761',\n",
       " 'https://www.rossmann.de/de/lebensmittel-teekanne-fruechtetee-blueberry-muffin/p/4009300013372',\n",
       " 'https://www.rossmann.de/de/lebensmittel-3bears-granola-erdnuss-kakao/p/4260462985925',\n",
       " 'https://www.rossmann.de/de/lebensmittel-alnatura-bio-puderzucker/p/4104420142787',\n",
       " 'https://www.rossmann.de/de/lebensmittel-alnatura-bio-rohrohrzucker/p/4104420021785',\n",
       " 'https://www.rossmann.de/de/lebensmittel-alnatura-bio-waldbeere-hafer-crunchy/p/4104420017764',\n",
       " 'https://www.rossmann.de/de/lebensmittel-alnatura-bio-dinkel-crunchy/p/4104420017740',\n",
       " 'https://www.rossmann.de/de/lebensmittel-alnatura-bio-streichcreme-paprika-chili/p/4104420238930',\n",
       " 'https://www.rossmann.de/de/lebensmittel-laudatio-kaffeegenuss-chai-latte-schoko/p/4305615673080',\n",
       " 'https://www.rossmann.de/de/lebensmittel-das-exquisite-kaffee-arabica-zartbitter-schokolade/p/4305615838977',\n",
       " 'https://www.rossmann.de/de/lebensmittel-enerbio-proteinriegelmix-sweet-und-salty/p/4305615985831',\n",
       " 'https://www.rossmann.de/de/lebensmittel-koro-bio-energy-ball-kakao-und-himbeerfuellung/p/4260718293200',\n",
       " 'https://www.rossmann.de/de/lebensmittel-enerbio-tortellini-gemuese/p/4305615852379',\n",
       " 'https://www.rossmann.de/de/lebensmittel-funny-frisch-riffels-naturell/p/4003586000347',\n",
       " 'https://www.rossmann.de/de/lebensmittel-bahlsen-pick-up-original/p/4017100282812',\n",
       " 'https://www.rossmann.de/de/lebensmittel-das-exquisite-erlesene-gebaeckmischung/p/4305615839103',\n",
       " 'https://www.rossmann.de/de/lebensmittel-whole-earth-bio-crunchy-peanut-butter/p/5013665115632',\n",
       " 'https://www.rossmann.de/de/lebensmittel-enerbio-fruchtriegel-kokos/p/4305615933702',\n",
       " 'https://www.rossmann.de/de/lebensmittel-seeberger-studentenfutter/p/4008258154229',\n",
       " 'https://www.rossmann.de/de/lebensmittel-genuss-plus-rohkost-riegel-salted-caramel/p/4305615887104',\n",
       " 'https://www.rossmann.de/de/lebensmittel-koro-bio-mct-oel/p/4260718296232',\n",
       " 'https://www.rossmann.de/de/lebensmittel-enerbio-nussriegel-erdnuss-und-mandel/p/4305615678832',\n",
       " 'https://www.rossmann.de/de/lebensmittel-alnatura-bio-waldhonig/p/4104420024526',\n",
       " 'https://www.rossmann.de/de/lebensmittel-enerbio-vegane-mayo/p/4305615976488',\n",
       " 'https://www.rossmann.de/de/lebensmittel-ritter-sport-nugat-tafelschokolade/p/4000417602619',\n",
       " 'https://www.rossmann.de/de/lebensmittel-alnatura-bio-dinkel-knusper-taler-zartbitter/p/4104420053786',\n",
       " 'https://www.rossmann.de/de/lebensmittel-alnatura-bio-kartoffelchips-paprika/p/4104420056923',\n",
       " 'https://www.rossmann.de/de/lebensmittel-waterdrop-microdrink-nero/p/9120077850290',\n",
       " 'https://www.rossmann.de/de/lebensmittel-alnatura-bio-nougat-und-mandel-riegel/p/0000042400653',\n",
       " 'https://www.rossmann.de/de/lebensmittel-alnatura-bio-haferflocken-extra-zart-bioland/p/4104420225534',\n",
       " 'https://www.rossmann.de/de/lebensmittel-alnatura-bio-sauerteigextrakt/p/4104420231412',\n",
       " 'https://www.rossmann.de/de/lebensmittel-xucker-light-kalorienfreies-suessungsmittel/p/4260248061256',\n",
       " 'https://www.rossmann.de/de/lebensmittel-foodloose-bio-erdnussmus-peanut-butter-bites/p/4260229231579',\n",
       " 'https://www.rossmann.de/de/lebensmittel-alnatura-bio-muesliriegel-schoko/p/4104420221796',\n",
       " 'https://www.rossmann.de/de/lebensmittel-ritter-sport-schokowuerfel-schokogruss-box/p/4000417652508',\n",
       " 'https://www.rossmann.de/de/lebensmittel-hershey-cookies-n-creme-riegel/p/0753854500140',\n",
       " 'https://www.rossmann.de/de/lebensmittel-3bears-pocket-porridge-feiner-kakao/p/4260462983617',\n",
       " 'https://www.rossmann.de/de/lebensmittel-ritter-sport-marzipan-tafelschokolade/p/4000417602510',\n",
       " 'https://www.rossmann.de/de/lebensmittel-tartex-bio-abendbrotaufstrich-kirschtomaten-rucola/p/4005514040975',\n",
       " 'https://www.rossmann.de/de/lebensmittel-kings-crown-schwarzer-tee-english-breakfast/p/4305615641980',\n",
       " 'https://www.rossmann.de/de/lebensmittel-schloss-bockfliess-schloss-bockfliess-adele-i/p/9006332217247',\n",
       " 'https://www.rossmann.de/de/lebensmittel-genuss-plus-geschaelte-hanfsamen/p/4305615880488',\n",
       " 'https://www.rossmann.de/de/lebensmittel-alnatura-bio-zimt-knusper-muesli/p/4104420236332',\n",
       " 'https://www.rossmann.de/de/lebensmittel-enerbio-apfelmark-mit-banane/p/4305615971612',\n",
       " 'https://www.rossmann.de/de/lebensmittel-huelsenreich-bio-knabber-kichererbsen-paprika/p/4262413260006',\n",
       " 'https://www.rossmann.de/de/lebensmittel-enerbio-naturland-dinkel-ganzes-korn/p/4068134020437',\n",
       " 'https://www.rossmann.de/de/lebensmittel-seeberger-cashew-mango-mix/p/4008258014004',\n",
       " 'https://www.rossmann.de/de/lebensmittel-bauck-muehle-bio-schnelle-broetchen-hafer/p/4015637009001',\n",
       " 'https://www.rossmann.de/de/lebensmittel-alnatura-bio-linsen-topf-vegetarisch/p/4104420020429',\n",
       " 'https://www.rossmann.de/de/lebensmittel-alnatura-bio-barista-erbse-naturland/p/4104420239302',\n",
       " 'https://www.rossmann.de/de/lebensmittel-knoppers-kokosriegel/p/4014400929379',\n",
       " 'https://www.rossmann.de/de/lebensmittel-alnatura-bio-erdnussmus-fein/p/4104420181144',\n",
       " 'https://www.rossmann.de/de/lebensmittel-enerbio-erythrit/p/4068134006196',\n",
       " 'https://www.rossmann.de/de/lebensmittel-alnatura-bio-sauerkraut-bioland/p/4104420033849',\n",
       " 'https://www.rossmann.de/de/lebensmittel-alnatura-bio-haferflocken-grossblatt-bioland/p/4104420250000',\n",
       " 'https://www.rossmann.de/de/lebensmittel-yfood-coconut-und-white-chocolate-riegel/p/4260556631950',\n",
       " 'https://www.rossmann.de/de/lebensmittel-koro-bio-kokos-mandel-creme/p/4255582802191',\n",
       " 'https://www.rossmann.de/de/lebensmittel-kings-crown-bio-kraeutertee-bergkraeuter/p/4305615641645',\n",
       " 'https://www.rossmann.de/de/lebensmittel-enerbio-paprika-chili-streichcreme/p/4305615967981',\n",
       " 'https://www.rossmann.de/de/lebensmittel-kings-crown-fruechtetee-fuer-dein-immunsystem/p/4305615944807',\n",
       " 'https://www.rossmann.de/de/lebensmittel-kings-crown-kraeutertee-kamille/p/4305615636917',\n",
       " 'https://www.rossmann.de/de/lebensmittel-alnatura-bio-ceylon-zimt/p/4104420028500',\n",
       " 'https://www.rossmann.de/de/lebensmittel-alnatura-bio-schoko-reis-waffeln-zartbitter-orange/p/4104420054387',\n",
       " 'https://www.rossmann.de/de/lebensmittel-alnatura-bio-erbsen-und-karotten/p/4104420034181',\n",
       " 'https://www.rossmann.de/de/lebensmittel-forest-gum-minze-kaugummi/p/4270000400506',\n",
       " 'https://www.rossmann.de/de/lebensmittel-barebells-proteinriegel-salted-peanut-caramel/p/7340001805116',\n",
       " 'https://www.rossmann.de/de/lebensmittel-barebells-proteinriegel-caramel-choco/p/7340001804843',\n",
       " 'https://www.rossmann.de/de/lebensmittel-kings-crown-kraeutertee-fuer-deine-energie/p/4305615944685',\n",
       " 'https://www.rossmann.de/de/lebensmittel-alnatura-bio-origin-crema-con-aceto-balsamico-di-modena-gga/p/4104420183384',\n",
       " 'https://www.rossmann.de/de/lebensmittel-koro-premium-mandelkerne/p/4260335837955',\n",
       " 'https://www.rossmann.de/de/lebensmittel-alnatura-bio-pesto-verde/p/0000040045351',\n",
       " 'https://www.rossmann.de/de/lebensmittel-enerbio-rote-linsen-burger/p/4305615677934',\n",
       " 'https://www.rossmann.de/de/lebensmittel-genuss-plus-chia-samen/p/4305615839806',\n",
       " 'https://www.rossmann.de/de/lebensmittel-alnatura-bio-mais-amaranth-waffeln-rosmarin/p/4104420177086',\n",
       " 'https://www.rossmann.de/de/lebensmittel-wholey-bio-chillo-pillows/p/4260582961519',\n",
       " 'https://www.rossmann.de/de/lebensmittel-madegood-bio-granola-riegel-schokolade-und-bananen/p/0687456213606',\n",
       " 'https://www.rossmann.de/de/lebensmittel-ferrero-tic-tac-fresh-mint/p/0000040084633',\n",
       " 'https://www.rossmann.de/de/lebensmittel-genuss-plus-nusskernmischung-geroestet-und-gesalzen/p/4305615839462',\n",
       " 'https://www.rossmann.de/de/lebensmittel-alnatura-bio-cashewbruch/p/4104420222083',\n",
       " 'https://www.rossmann.de/de/ideenwelt-ankerkraut-veggie-duo/p/4062988841897',\n",
       " 'https://www.rossmann.de/de/lebensmittel-lorenz-nicnacs-original/p/4018077004896',\n",
       " 'https://www.rossmann.de/de/lebensmittel-genuss-plus-gourmet-nuss-mix-geroestet-und-gesalzen/p/4305615995489',\n",
       " 'https://www.rossmann.de/de/lebensmittel-kings-crown-bio-kraeutertee-pfefferminze/p/4305615891859',\n",
       " 'https://www.rossmann.de/de/lebensmittel-daim-pralinen/p/7622400928604',\n",
       " 'https://www.rossmann.de/de/lebensmittel-wrigleys-airwaves-kaugummi-dragees-menthol-und-eucalyptus/p/4009900538718',\n",
       " 'https://www.rossmann.de/de/lebensmittel-layenberger-fitfeelgood-slim-shake-vanille-sahne-geschmack/p/4036554705333',\n",
       " 'https://www.rossmann.de/de/lebensmittel-barebells-proteinriegel-marshmallow-rocky-road/p/7340001804904',\n",
       " 'https://www.rossmann.de/de/lebensmittel-koro-bio-muesli-gekeimt/p/4260335837153',\n",
       " 'https://www.rossmann.de/de/lebensmittel-alnatura-bio-flohsamen/p/4104420216709',\n",
       " 'https://www.rossmann.de/de/lebensmittel-alnatura-bio-origin-pesto-ricotta/p/0000042270997',\n",
       " 'https://www.rossmann.de/de/lebensmittel-enerbio-kaese-stangen-rosmarin-mit-gouda/p/4305615678535',\n",
       " 'https://www.rossmann.de/de/lebensmittel-tuc-kraecker-sour-cream-und-onion/p/7622210641434',\n",
       " 'https://www.rossmann.de/de/lebensmittel-alnatura-bio-italienische-kraeuter/p/4104420028326',\n",
       " 'https://www.rossmann.de/de/lebensmittel-kings-crown-kraeutertee-fuer-deine-balance/p/4305615944692',\n",
       " 'https://www.rossmann.de/de/lebensmittel-genuss-plus-indische-flohsamen/p/4305615978734',\n",
       " 'https://www.rossmann.de/de/lebensmittel-kings-crown-bio-fruechtetee-waldbeere/p/4305615995441',\n",
       " 'https://www.rossmann.de/de/lebensmittel-ferrero-kinder-bueno-mini/p/8000500253687',\n",
       " 'https://www.rossmann.de/de/lebensmittel-hello-taste-suess-sauer-sauce/p/4260663731321',\n",
       " 'https://www.rossmann.de/de/lebensmittel-funny-frisch-pom-baer-crizzlies-original/p/4000522108433',\n",
       " 'https://www.rossmann.de/de/lebensmittel-alnatura-bio-reiswaffeln-vollkorn-mit-meersalz/p/4104420217973',\n",
       " 'https://www.rossmann.de/de/lebensmittel-alnatura-gemuesebouillon-wuerfel/p/4104420028586',\n",
       " 'https://www.rossmann.de/de/lebensmittel-alnatura-bio-haselnussmus/p/4104420227439',\n",
       " 'https://www.rossmann.de/de/lebensmittel-ferrero-duo-kekse/p/8000500385807',\n",
       " 'https://www.rossmann.de/de/lebensmittel-jacobs-kroenung-instantkaffee-sticks/p/8711000433270',\n",
       " 'https://www.rossmann.de/de/lebensmittel-enerbio-schoko-cookies-bioland/p/4305615780801',\n",
       " 'https://www.rossmann.de/de/lebensmittel-lambrusco-dellemilia-la-cantina-delle-7-donne/p/8032625331193',\n",
       " 'https://www.rossmann.de/de/lebensmittel-all-stars-flavor-powder-milky-chocolate-und-chunks/p/4250031329151',\n",
       " 'https://www.rossmann.de/de/lebensmittel-nimm2-lachgummi-joghurt/p/4014400914832',\n",
       " 'https://www.rossmann.de/de/lebensmittel-share-bio-sirup-orange-maracuja/p/4260739996043',\n",
       " 'https://www.rossmann.de/de/lebensmittel-teekanne-schwedische-blaubeere-fruechtetee/p/4009300016946',\n",
       " 'https://www.rossmann.de/de/lebensmittel-enerbio-polenta-naturland/p/4068134023278',\n",
       " 'https://www.rossmann.de/de/lebensmittel-vly-ungesuesst/p/4280001939042',\n",
       " 'https://www.rossmann.de/de/lebensmittel-ritter-sport-rum-trauben-nuss-tafelschokolade/p/4000417601216',\n",
       " 'https://www.rossmann.de/de/lebensmittel-alnatura-bio-rosinen/p/4104420024762',\n",
       " 'https://www.rossmann.de/de/lebensmittel-haribo-goldbaeren-minis/p/4001686301524',\n",
       " 'https://www.rossmann.de/de/lebensmittel-alnatura-bio-soja-drink-vanille/p/4104420095120',\n",
       " 'https://www.rossmann.de/de/lebensmittel-alnatura-bio-kaffee-loeslich-mild/p/4104420224810',\n",
       " 'https://www.rossmann.de/de/lebensmittel-alnatura-bio-aceto-balsamico-di-modena-gga/p/4104420030923',\n",
       " 'https://www.rossmann.de/de/lebensmittel-best-foodies-bio-gemuese-chips-bunte-kartoffeln-mit-alpensalz-und-schwarzem-pfeffer/p/4262386750245',\n",
       " 'https://www.rossmann.de/de/lebensmittel-alnatura-bio-dinkel-schoko-kekse-bioland/p/4104420055209',\n",
       " 'https://www.rossmann.de/de/lebensmittel-wholey-bio-lucky-loops/p/4260582961526',\n",
       " 'https://www.rossmann.de/de/lebensmittel-laudatio-kaffeegenuss-ganze-bohne-espresso/p/4305615823416',\n",
       " 'https://www.rossmann.de/de/lebensmittel-esn-designer-bar-crunchy-chocolate-caramel/p/4250519646541',\n",
       " 'https://www.rossmann.de/de/lebensmittel-3bears-porridge-mohnige-banane/p/4260462980043',\n",
       " 'https://www.rossmann.de/de/lebensmittel-share-bio-sirup-zitrone-minze/p/4260739996067',\n",
       " 'https://www.rossmann.de/de/lebensmittel-nucao-bio-schokoladen-riegel-almond-butter-und-sea-salt/p/4262378221005',\n",
       " 'https://www.rossmann.de/de/lebensmittel-cielo-cielo-trebbiano---pinot-grigio/p/8008900008845',\n",
       " 'https://www.rossmann.de/de/lebensmittel-enerbio-cranberrysaft/p/4305615662893',\n",
       " 'https://www.rossmann.de/de/lebensmittel-alnatura-bio-mango-fruchtsauce/p/4104420021167',\n",
       " 'https://www.rossmann.de/de/lebensmittel-alnatura-bio-pink-grapefruitsaft/p/4104420071940',\n",
       " 'https://www.rossmann.de/de/lebensmittel-wellmix-sport-veganes-protein-schoko/p/4305615838786',\n",
       " 'https://www.rossmann.de/de/lebensmittel-das-exquisite-coco-fleur/p/4305615839059',\n",
       " 'https://www.rossmann.de/de/lebensmittel-genuss-plus-nussriegel-zartbitter-meersalz/p/4305615839752',\n",
       " 'https://www.rossmann.de/de/lebensmittel-alnatura-bio-earl-grey/p/4104420135741',\n",
       " 'https://www.rossmann.de/de/lebensmittel-alnatura-bio-vegane-bratwuerstchen-aus-seitan-und-tofu/p/0000042239482',\n",
       " 'https://www.rossmann.de/de/lebensmittel-alnatura-bio-nougat-schokolade/p/4104420222625',\n",
       " 'https://www.rossmann.de/de/lebensmittel-maxinutrition-maxclear-protein-shake-lemon-ice-tea/p/4061289007643',\n",
       " 'https://www.rossmann.de/de/lebensmittel-genuss-plus-cranberries-geschnitten/p/4305615839592',\n",
       " 'https://www.rossmann.de/de/lebensmittel-enerbio-hummus/p/4305615968056',\n",
       " 'https://www.rossmann.de/de/lebensmittel-genuss-plus-aprikosen-ungeschwefelt/p/4305615839639',\n",
       " 'https://www.rossmann.de/de/lebensmittel-enerbio-edelnuss-mix/p/4305615918891',\n",
       " 'https://www.rossmann.de/de/lebensmittel-original-sahne-muh-muhs-sahne-toffees/p/4004363620130',\n",
       " 'https://www.rossmann.de/de/lebensmittel-enerbio-hummus-rote-bete/p/4068134036896',\n",
       " 'https://www.rossmann.de/de/lebensmittel-pringles-original-gesalzene-chips/p/5053990127726',\n",
       " 'https://www.rossmann.de/de/lebensmittel-maxinutrition-creamy-core-protein-bar-dark-chocolate-coconut/p/4061289005540',\n",
       " 'https://www.rossmann.de/de/lebensmittel-alnatura-bio-zitronensaft/p/4104420072589',\n",
       " 'https://www.rossmann.de/de/lebensmittel-alnatura-bio-soja-cuisine/p/4104420095205',\n",
       " 'https://www.rossmann.de/de/lebensmittel-maxinutrition-premium-protein-bar-white-chocolate-peanut/p/4061289001528',\n",
       " 'https://www.rossmann.de/de/lebensmittel-maynards-bassetts-sour-patch-kids/p/7622201503833',\n",
       " 'https://www.rossmann.de/de/lebensmittel-enerbio-dinkelflocken-feinblatt/p/4305615664118',\n",
       " 'https://www.rossmann.de/de/lebensmittel-enerbio-keine-mlch-voll/p/4068134027405',\n",
       " 'https://www.rossmann.de/de/lebensmittel-alnatura-bio-dinkelkaffee/p/4104420224780',\n",
       " 'https://www.rossmann.de/de/lebensmittel-alnavit-bio-rossmarin-grissini-mit-meersalz/p/0000042280897',\n",
       " 'https://www.rossmann.de/de/lebensmittel-kings-crown-schwarzer-tee-earl-grey/p/4305615641454',\n",
       " 'https://www.rossmann.de/de/lebensmittel-after-eight-feine-pfefferminz-taefelchen/p/5000189363069',\n",
       " 'https://www.rossmann.de/de/lebensmittel-alnatura-bio-schokolade-cappuccino/p/4104420222595',\n",
       " 'https://www.rossmann.de/de/lebensmittel-naughty-nuts-bio-erdnussmus-cacao-crunch/p/4270001889430',\n",
       " 'https://www.rossmann.de/de/lebensmittel-alnatura-bio-orangensaft-mit-fruchtfleisch/p/4104420245396',\n",
       " 'https://www.rossmann.de/de/lebensmittel-enerbio-tortilla-chips-meersalz/p/4305615678641',\n",
       " 'https://www.rossmann.de/de/lebensmittel-alnatura-bio-chiasamen/p/4104420249967',\n",
       " 'https://www.rossmann.de/de/lebensmittel-alnatura-bio-gebrannte-mandel-aufstrich/p/4104420248458',\n",
       " 'https://www.rossmann.de/de/lebensmittel-wellmix-balance-shake-cookies-und-cream/p/4305615601328',\n",
       " 'https://www.rossmann.de/de/lebensmittel-alnatura-bio-kichererbsenwaffeln/p/4104420237971',\n",
       " 'https://www.rossmann.de/de/lebensmittel-all-stars-flavor-powder-white-chocolate-und-strawberry/p/4250031329168',\n",
       " 'https://www.rossmann.de/de/lebensmittel-kings-crown-bio-kraeutertee-lebendigkeit/p/4305615838380',\n",
       " 'https://www.rossmann.de/de/lebensmittel-alnatura-bio-dinkel-gruenkern-vollkornbrot/p/4104420225602',\n",
       " 'https://www.rossmann.de/de/lebensmittel-alnatura-bio-apfelmark-mit-mango-naturland/p/4104420033764',\n",
       " 'https://www.rossmann.de/de/lebensmittel-teekanne-fruechtetee-heisser-hugo/p/4009300011934',\n",
       " 'https://www.rossmann.de/de/lebensmittel-enerbio-nuss-muesli/p/4305615663920',\n",
       " 'https://www.rossmann.de/de/lebensmittel-madegood-bio-granola-riegel-vanilla-flavour/p/0687456214931',\n",
       " 'https://www.rossmann.de/de/lebensmittel-hello-taste-tomatenketchup-paw-patrol-chase/p/4260663732557',\n",
       " 'https://www.rossmann.de/de/lebensmittel-enerbio-knaecke-brot-dinkel-und-hafer-bioland/p/4305615780931',\n",
       " 'https://www.rossmann.de/de/lebensmittel-histafood-bio-beerenriegel/p/4262376990286',\n",
       " 'https://www.rossmann.de/de/lebensmittel-genuss-plus-leinsamen-ganzes-korn/p/4305615839820',\n",
       " 'https://www.rossmann.de/de/lebensmittel-enerbio-soja-schnetzel/p/4305615985886',\n",
       " 'https://www.rossmann.de/de/lebensmittel-alnatura-bio-kuerbiskerne/p/4104420230491',\n",
       " 'https://www.rossmann.de/de/lebensmittel-koro-bio-nut-butter-cups-cashew-strawberry/p/4255582805505',\n",
       " 'https://www.rossmann.de/de/lebensmittel-messmer-pfefferminze/p/4001257153002',\n",
       " 'https://www.rossmann.de/de/lebensmittel-bahlsen-original-leibniz-zoo-butterkeks/p/4017100138010',\n",
       " 'https://www.rossmann.de/de/lebensmittel-lindt-lindor-kugeln-milch/p/4000539415708',\n",
       " 'https://www.rossmann.de/de/lebensmittel-schloss-bockfliess-schloss-bockfliess-adele-ii/p/9006332217261',\n",
       " 'https://www.rossmann.de/de/lebensmittel-koro-mittelscharfer-senf-ohne-zuckerzusatz/p/4260654781021',\n",
       " 'https://www.rossmann.de/de/lebensmittel-alnatura-bio-muesliriegel-ahorn-dattel/p/4104420221833',\n",
       " 'https://www.rossmann.de/de/lebensmittel-alnatura-bio-dinkel-vollkorn-spaghetti/p/4104420245280',\n",
       " 'https://www.rossmann.de/de/lebensmittel-alnatura-bio-gruener-tee-jasmin/p/4104420060265',\n",
       " 'https://www.rossmann.de/de/lebensmittel-enerbio-sanddornsaft/p/4305615662909',\n",
       " 'https://www.rossmann.de/de/lebensmittel-genuss-plus-fruchtschnitte-mango-aprikose/p/4305615892658',\n",
       " 'https://www.rossmann.de/de/lebensmittel-enerbio-reis-drink-vanille/p/4305615662794',\n",
       " 'https://www.rossmann.de/de/lebensmittel-enerbio-pesto-rosso/p/4305615768717',\n",
       " 'https://www.rossmann.de/de/lebensmittel-laudatio-kaffeegenuss-typ-cappuccino-schoko/p/4305615892580',\n",
       " 'https://www.rossmann.de/de/lebensmittel-koro-berta-protein-bar-brownie/p/4260718291008',\n",
       " 'https://www.rossmann.de/de/lebensmittel-lab-lab-reserva/p/5604424349001',\n",
       " 'https://www.rossmann.de/de/lebensmittel-koro-dunkles-bio-tahin/p/4260654786309',\n",
       " 'https://www.rossmann.de/de/lebensmittel-alnatura-bio-hafer-drink-vanille-bioland/p/4104420236196',\n",
       " 'https://www.rossmann.de/de/lebensmittel-jacobs-momente-choco-cappuccino/p/8711000524589',\n",
       " 'https://www.rossmann.de/de/lebensmittel-enerbio-dinkel-butter-kekse/p/4068134005953',\n",
       " 'https://www.rossmann.de/de/lebensmittel-kings-crown-fruechtetee-limone/p/4305615947167',\n",
       " 'https://www.rossmann.de/de/lebensmittel-little-lunch-bio-gulaschsuppe/p/4281008878006',\n",
       " 'https://www.rossmann.de/de/lebensmittel-layenberger-fitfeelgood-slim-shake-rote-beeren-joghurt/p/4036554705357',\n",
       " 'https://www.rossmann.de/de/lebensmittel-alnatura-bio-sonnenblumenoel-nativ/p/4104420235922',\n",
       " 'https://www.rossmann.de/de/lebensmittel-henssler-schnelle-nummer-olivenoel/p/4260737780002',\n",
       " 'https://www.rossmann.de/de/lebensmittel-alnatura-bio-dinkel-zwieback/p/4104420056343',\n",
       " 'https://www.rossmann.de/de/lebensmittel-alnatura-bio-maiswaffel-natur/p/4104420248120',\n",
       " 'https://www.rossmann.de/de/lebensmittel-alnatura-bio-nougat-mandeln/p/4104420179059',\n",
       " 'https://www.rossmann.de/de/lebensmittel-huelsenreich-bio-knabber-kichererbsen-sweet-onion/p/4262413260020',\n",
       " 'https://www.rossmann.de/de/lebensmittel-alnatura-bio-vollmilch-schokolade/p/4104420222441',\n",
       " 'https://www.rossmann.de/de/lebensmittel-alnatura-bio-champignon-vegane-pastete-auf-hefebasis/p/4104420173514',\n",
       " 'https://www.rossmann.de/de/lebensmittel-kings-crown-fruechtetee-cranberry-vanille/p/4305615641676',\n",
       " 'https://www.rossmann.de/de/lebensmittel-heimatgut-bio-popcorn-suess/p/4260350920885',\n",
       " 'https://www.rossmann.de/de/lebensmittel-nescafe-dolce-gusto-cafe-au-lait-kaffeekapseln/p/7613033174704',\n",
       " 'https://www.rossmann.de/de/lebensmittel-oatsome-smoothie-bowl-alice-im-beerenland/p/4280001782020',\n",
       " 'https://www.rossmann.de/de/lebensmittel-just-taste-bio-suesskartoffel-spaghetti/p/4260651480095',\n",
       " 'https://www.rossmann.de/de/lebensmittel-rubin-wiederverwendbare-wasserfilter-kartusche-starter-set/p/4305615917955',\n",
       " 'https://www.rossmann.de/de/lebensmittel-enerbio-raw-chocolate-maulbeere-und-acerola/p/4305615823058',\n",
       " 'https://www.rossmann.de/de/lebensmittel-koro-bio-rhabarberkompott/p/4260718297826',\n",
       " 'https://www.rossmann.de/de/lebensmittel-enerbio-krokantriegel-caramel-fudge/p/4305615986456',\n",
       " 'https://www.rossmann.de/de/lebensmittel-alnatura-bio-gnocchi/p/0000040045313',\n",
       " 'https://www.rossmann.de/de/lebensmittel-alnatura-weizenmehl-type-405-bioland/p/4104420241497',\n",
       " 'https://www.rossmann.de/de/lebensmittel-enerbio-curry-traum/p/4305615982526',\n",
       " 'https://www.rossmann.de/de/lebensmittel-naughty-nuts-bio-haselnussmus-choco-crush/p/4260737540248',\n",
       " 'https://www.rossmann.de/de/lebensmittel-koro-bio-buchweizen/p/4260718290230',\n",
       " 'https://www.rossmann.de/de/haushalt-hygreen-klimaneutrales-essigspray/p/4003387002304',\n",
       " 'https://www.rossmann.de/de/lebensmittel-enerbio-proteinriegel-cookies-und-cream/p/4305615985800',\n",
       " 'https://www.rossmann.de/de/lebensmittel-koro-bio-kokosnussmus/p/4260335833148',\n",
       " 'https://www.rossmann.de/de/lebensmittel-hitschies-kaubonbon-sour-mix/p/4100250006558',\n",
       " 'https://www.rossmann.de/de/lebensmittel-enerbio-granatapfelsaft/p/4305615662756',\n",
       " 'https://www.rossmann.de/de/lebensmittel-alnatura-bio-cocos-vollmilch-riegel/p/0000042100522',\n",
       " 'https://www.rossmann.de/de/lebensmittel-enerbio-dinkelflakes-bioland/p/4305615780900',\n",
       " 'https://www.rossmann.de/de/lebensmittel-koro-erythrit/p/4260335837931',\n",
       " 'https://www.rossmann.de/de/lebensmittel-koro-bio-seitan/p/4260654782424',\n",
       " 'https://www.rossmann.de/de/lebensmittel-alnatura-bio-schokolade-dunkle-nuss/p/4104420239968',\n",
       " 'https://www.rossmann.de/de/lebensmittel-alnatura-bio-kokos-curry/p/4104420212794',\n",
       " 'https://www.rossmann.de/de/lebensmittel-alnatura-bio-gewuerzgurken-bioland/p/4104420232655',\n",
       " 'https://www.rossmann.de/de/lebensmittel-3bears-overnight-oats-eiskaffee/p/4260462984935',\n",
       " 'https://www.rossmann.de/de/lebensmittel-koro-bio-energy-ball-salted-peanut/p/4260654782882',\n",
       " 'https://www.rossmann.de/de/lebensmittel-enerbio-fruchtaufstrich-sauerkirsche/p/4305615982823',\n",
       " 'https://www.rossmann.de/de/lebensmittel-alnatura-bio-mandelschnitte/p/0000042100454',\n",
       " 'https://www.rossmann.de/de/lebensmittel-enerbio-rapsoel-mit-buttergeschmack/p/4305615986449',\n",
       " 'https://www.rossmann.de/de/lebensmittel-tri-top-sirup-orange-mandarine/p/4019313014143',\n",
       " 'https://www.rossmann.de/de/lebensmittel-powerbar-protein-vegan-peanut-choc/p/4029679676091',\n",
       " 'https://www.rossmann.de/de/lebensmittel-alnatura-bio-dinkel-doppelkeks/p/4104420053922',\n",
       " 'https://www.rossmann.de/de/lebensmittel-powerbar-protein-low-in-sugars-peach-yoghurt/p/4029679679894',\n",
       " 'https://www.rossmann.de/de/lebensmittel-kings-crown-kraeutertee-abendkraeuter/p/4068134000606',\n",
       " 'https://www.rossmann.de/de/lebensmittel-lavazza-crema-e-gusto/p/8000070038868',\n",
       " 'https://www.rossmann.de/de/lebensmittel-enerbio-schoko-balls/p/4305615783345',\n",
       " 'https://www.rossmann.de/de/lebensmittel-genuss-plus-paranusskerne/p/4305615839400',\n",
       " 'https://www.rossmann.de/de/lebensmittel-celebrations-in-dekorativer-praesentschachtel/p/5000159500258',\n",
       " 'https://www.rossmann.de/de/lebensmittel-alnatura-bio-schoko-butterkeks-vollmilch/p/4104420053960',\n",
       " 'https://www.rossmann.de/de/lebensmittel-kings-crown-kraeutertee-minze-ingwer/p/4305615641416',\n",
       " 'https://www.rossmann.de/de/lebensmittel-bauck-muehle-bio-wunderbrodchen-protein-backmischung/p/4015637015323',\n",
       " 'https://www.rossmann.de/de/lebensmittel-krueger-family-schoko-cappuccino/p/4052700068398',\n",
       " 'https://www.rossmann.de/de/lebensmittel-teaya-bio-taste-my-world-probierpack/p/4008137080069',\n",
       " 'https://www.rossmann.de/de/lebensmittel-enerbio-dinkel-penne-naturland/p/4305615670270',\n",
       " 'https://www.rossmann.de/de/lebensmittel-yogi-tea-bio-gruene-energie-tee/p/4012824401921',\n",
       " 'https://www.rossmann.de/de/lebensmittel-naturally-pam-bio-oat-bar-chunky-chocolate/p/4260697376000',\n",
       " 'https://www.rossmann.de/de/lebensmittel-ovomaltine-der-klassiker-dose/p/7612100909911',\n",
       " 'https://www.rossmann.de/de/lebensmittel-alnatura-bio-erdnuesse/p/4104420057340',\n",
       " 'https://www.rossmann.de/de/lebensmittel-koro-bio-cashewmus/p/4255582804720',\n",
       " 'https://www.rossmann.de/de/lebensmittel-enerbio-kessel-chips-mit-meersalz-verfeinert/p/4305615652382',\n",
       " ...]"
      ]
     },
     "execution_count": 7,
     "metadata": {},
     "output_type": "execute_result"
    }
   ],
   "source": [
    "all_links"
   ]
  },
  {
   "cell_type": "code",
   "execution_count": 8,
   "metadata": {},
   "outputs": [
    {
     "data": {
      "text/plain": [
       "2100"
      ]
     },
     "execution_count": 8,
     "metadata": {},
     "output_type": "execute_result"
    }
   ],
   "source": [
    "len(all_links)"
   ]
  },
  {
   "cell_type": "markdown",
   "metadata": {},
   "source": [
    "## Below is the Makeup Webscraping"
   ]
  },
  {
   "cell_type": "code",
   "execution_count": 8,
   "metadata": {},
   "outputs": [],
   "source": [
    "url_makeup = 'https://www.rossmann.de/de/make-up/c/olcat1_1?q=%3Arelevance%3A&pageSize=60&page='"
   ]
  },
  {
   "cell_type": "code",
   "execution_count": 9,
   "metadata": {},
   "outputs": [
    {
     "name": "stderr",
     "output_type": "stream",
     "text": [
      "100%|██████████████████████████████████████████████████████████████████████████████████| 35/35 [01:30<00:00,  2.60s/it]\n"
     ]
    }
   ],
   "source": [
    "all_links = []\n",
    "\n",
    "for p in tqdm(range(0, 35)): #35#48\n",
    "    try:\n",
    "        resp = requests.get(url_makeup + str(p))\n",
    "        soup = BeautifulSoup(resp.text)\n",
    "        links = ['https://www.rossmann.de' + a.attrs['href'] for a in soup.find_all(class_='rm-tile-product__headline')]\n",
    "        all_links.extend(links)\n",
    "        time.sleep(0.25)\n",
    "    except:\n",
    "        continue"
   ]
  },
  {
   "cell_type": "code",
   "execution_count": 5,
   "metadata": {},
   "outputs": [
    {
     "name": "stdout",
     "output_type": "stream",
     "text": [
      "60\n"
     ]
    },
    {
     "data": {
      "text/plain": [
       "['https://www.rossmann.de/de/make-up-semilac-enchanted-by-xlaeta-uv-nagellack-manikuere-set/p/5902751463163',\n",
       " 'https://www.rossmann.de/de/make-up-maniko-magic-remover-pen/p/4260658005673',\n",
       " 'https://www.rossmann.de/de/make-up-maniko-uv-gel-strip-vivid-coral/p/4260658005840',\n",
       " 'https://www.rossmann.de/de/make-up-maniko-uv-gel-strip-pastel-squad/p/4260658006557',\n",
       " 'https://www.rossmann.de/de/make-up-maniko-uv-gel-strip-statement/p/4260658005734',\n",
       " 'https://www.rossmann.de/de/make-up-maniko-uv-gel-strip-babyboomer-rose/p/4260658006571',\n",
       " 'https://www.rossmann.de/de/make-up-maniko-uv-gel-strip-raspberry/p/4260658006014',\n",
       " 'https://www.rossmann.de/de/make-up-maniko-uv-gel-strip-drama-queen/p/4260658005819',\n",
       " 'https://www.rossmann.de/de/make-up-maniko-uv-gel-strip-glittery-rose/p/4260658007035',\n",
       " 'https://www.rossmann.de/de/make-up-maniko-uv-gel-strip-vintage-velvet/p/4260658005871',\n",
       " 'https://www.rossmann.de/de/make-up-maniko-uv-gel-strip-powder/p/4260658005901',\n",
       " 'https://www.rossmann.de/de/make-up-maybelline-new-york-the-nudes-lidschatten-palette/p/3600531199081',\n",
       " 'https://www.rossmann.de/de/make-up-revolution-shimmer-glam-eye-geschenkset/p/5057566770583',\n",
       " 'https://www.rossmann.de/de/make-up-nam-baked-eyeshadow-nr-1-moonlight/p/5905309907447',\n",
       " 'https://www.rossmann.de/de/make-up-maniko-uv-gel-strip-glazed-icecream/p/4260658006519',\n",
       " 'https://www.rossmann.de/de/make-up-maniko-uv-gel-strip-bordeaux/p/4260658005802',\n",
       " 'https://www.rossmann.de/de/make-up-maniko-uv-gel-strip-creamy-sheer/p/4260658006434',\n",
       " 'https://www.rossmann.de/de/make-up-maybelline-new-york-expression-kajal-eyeliner-nr-33-black/p/4084200653309',\n",
       " 'https://www.rossmann.de/de/make-up-manhattan-last-und-shine-nail-polish-070-candy-life/p/3614229453058',\n",
       " 'https://www.rossmann.de/de/make-up-manhattan-last-und-shine-nail-polish-farbe-050/p/3614229452938',\n",
       " 'https://www.rossmann.de/de/make-up-manhattan-khol-kajal-eyeliner-1010n/p/3616302462070',\n",
       " 'https://www.rossmann.de/de/make-up-maniko-uv-gel-strip-silky-smooth/p/4260658005888',\n",
       " 'https://www.rossmann.de/de/make-up-maniko-uv-gel-strip-wine-vibes/p/4260658005727',\n",
       " 'https://www.rossmann.de/de/make-up-maniko-uv-gel-strip-ox-blood/p/4260658005741',\n",
       " 'https://www.rossmann.de/de/make-up-maniko-uv-gel-strip-rosie-sheer/p/4260658006441',\n",
       " 'https://www.rossmann.de/de/make-up-revolution-the-brush-edit-geschenkset/p/5057566769228',\n",
       " 'https://www.rossmann.de/de/make-up-manhattan-endless-stay-waterproof-gel-eyeliner-fb-006/p/3614223175123',\n",
       " 'https://www.rossmann.de/de/make-up-revolution-mini-matte-heroes-geschenkset/p/5057566769266',\n",
       " 'https://www.rossmann.de/de/make-up-maybelline-new-york-express-manicure-nagelhaerter/p/0000030071360',\n",
       " 'https://www.rossmann.de/de/make-up-shopping-queen-nail-queen---nail-art-set/p/4054995056081',\n",
       " 'https://www.rossmann.de/de/make-up-maniko-uv-gel-strip-classic-french/p/4260658006533',\n",
       " 'https://www.rossmann.de/de/make-up-maniko-uv-gel-strip-tanned/p/4260658005987',\n",
       " 'https://www.rossmann.de/de/make-up-manhattan-eyemazing-5tastic-eyeshadow-003-rose-quartz/p/3616303505653',\n",
       " 'https://www.rossmann.de/de/make-up-maniko-uv-gel-strip-milky-sheer/p/4260658006458',\n",
       " 'https://www.rossmann.de/de/make-up-maniko-uv-gel-strip-milkshake/p/4260658005970',\n",
       " 'https://www.rossmann.de/de/make-up-maniko-uv-gel-strip-onyx/p/4260658006328',\n",
       " 'https://www.rossmann.de/de/make-up-revolution-pink-moments-face-und-eye-geschenkset/p/5057566770590',\n",
       " 'https://www.rossmann.de/de/make-up-revolution-mini-soft-glam-heroes-eye-und-lip-geschenkset/p/5057566769280',\n",
       " 'https://www.rossmann.de/de/make-up-nam-smart-luminous-foundation-darkener/p/5905309908369',\n",
       " 'https://www.rossmann.de/de/make-up-maybelline-new-york-express-brow-ultra-slim-augenbrauenstift-nr-05-deep-brown/p/3600531579463',\n",
       " 'https://www.rossmann.de/de/make-up-manhattan-browtastic-fill-und-sculpt-eyebrow-definer-002-medium-brown/p/3616305422422',\n",
       " 'https://www.rossmann.de/de/make-up-maniko-uv-gel-strip-hot-chili/p/4260658005758',\n",
       " 'https://www.rossmann.de/de/make-up-nam-magnetic-eyelash-1/p/5901801677475',\n",
       " 'https://www.rossmann.de/de/make-up-maybelline-new-york-color-tattoo-24-h-eye-stix---i-am-courageous-30/p/3600531672591',\n",
       " 'https://www.rossmann.de/de/make-up-nam-smart-foundation-darkener/p/5901801664154',\n",
       " 'https://www.rossmann.de/de/make-up-maniko-uv-gel-strip-glazed-donut/p/4260658006489',\n",
       " 'https://www.rossmann.de/de/make-up-maniko-uv-gel-strip-cafe-au-lait/p/4260658006595',\n",
       " 'https://www.rossmann.de/de/make-up-maniko-uv-gel-strip-pinky-promise/p/4260658005994',\n",
       " 'https://www.rossmann.de/de/make-up-maybelline-new-york-set-falsies-surreal-extensions-mascara-very-black--kajal-nr-33-black/p/4056048101250',\n",
       " 'https://www.rossmann.de/de/make-up-maniko-uv-gel-strip-birthday-suit/p/4260658005932',\n",
       " 'https://www.rossmann.de/de/make-up-loreal-paris-perfect-match-augenpflege-concealer-75-9d-golden-honey/p/3600523918584',\n",
       " 'https://www.rossmann.de/de/make-up-maybelline-new-york-build-a-brow-2in1-augenbrauenstift-nr-259-aschbraun--versiegelungsgel/p/3600531681333',\n",
       " 'https://www.rossmann.de/de/make-up-manhattan-last-und-shine-nail-polish-fb-151/p/3616303403263',\n",
       " 'https://www.rossmann.de/de/make-up-maybelline-new-york-super-stay-7-days-nagellack-nr-898-poet/p/3600531500658',\n",
       " 'https://www.rossmann.de/de/make-up-nam-eyesetting-powder-velvety-touch/p/5905309900318',\n",
       " 'https://www.rossmann.de/de/make-up-maybelline-new-york-color-tattoo-24-h-eye-stix--i-am-determined-25/p/3600531672584',\n",
       " 'https://www.rossmann.de/de/make-up-maybelline-new-york-lasting-drama-eyeliner-nr-20-dark-grey-area/p/3600531684921',\n",
       " 'https://www.rossmann.de/de/make-up-manhattan-wonder-freeze-brow-lamination-gel-002-blonde-und-eyemazing-kajal-eyeliner-1010n-black/p/3616305708915',\n",
       " 'https://www.rossmann.de/de/make-up-revolution-kiss-und-go-glaze-lip-care-geschenkset/p/5057566769211',\n",
       " 'https://www.rossmann.de/de/make-up-maybelline-new-york-green-edition-buttercream-lipstick-001-ecliptic/p/0000030150362']"
      ]
     },
     "execution_count": 5,
     "metadata": {},
     "output_type": "execute_result"
    }
   ],
   "source": [
    "print(len(all_links))\n",
    "all_links"
   ]
  },
  {
   "cell_type": "markdown",
   "metadata": {},
   "source": [
    "## Main script for Lebensmittel & Makeup"
   ]
  },
  {
   "cell_type": "code",
   "execution_count": null,
   "metadata": {},
   "outputs": [
    {
     "name": "stderr",
     "output_type": "stream",
     "text": [
      " 52%|████████████████████████████████████████▏                                     | 1020/1980 [56:12<26:21,  1.65s/it]"
     ]
    }
   ],
   "source": [
    "def save_attrs_to_json(attrs, filename='Priceonly_makeup_product_data.json'):\n",
    "    try:\n",
    "        with open(filename, 'a') as f:\n",
    "            json.dump(attrs, f)\n",
    "            f.write('\\n')  # Write each JSON object on a new line\n",
    "    except Exception as e:\n",
    "        print(f\"Error saving JSON: {e}\")\n",
    "\n",
    "# Sample list of links\n",
    "\n",
    "for l in tqdm(all_links[0:]):\n",
    "    try:\n",
    "        resp = requests.get(l)\n",
    "        soup = BeautifulSoup(resp.text, 'html.parser')\n",
    "        attrs = {}\n",
    "        \n",
    "        breadcrumb_list = soup.find('ol', class_='rm-breadcrumb__list')\n",
    "        attrs['Category'] = [item.text.strip() for item in breadcrumb_list.find_all('a', class_='rm-breadcrumb__link')]\n",
    "\n",
    "        \n",
    "        attrs['Brand'] = soup.find(class_='rm-product__brand').text.strip() if soup.find(class_='rm-product__brand') else ''\n",
    "        attrs['Title'] = soup.find(class_='rm-product__title').text.strip()\n",
    "      #  attrs['Price'] = soup.find('div',class_='rm-price__current').text.strip()\n",
    "        image = soup.find('div', class_='rm-productdetail__image-detail')\n",
    "        product_images = image.find_all('picture', class_='rm-product__image')\n",
    "\n",
    "        count = 0\n",
    "        for product_image in product_images:\n",
    "            source_tags = product_image.find_all('source')\n",
    "            for source_tag in source_tags:\n",
    "                srcset = source_tag.get('data-srcset')\n",
    "                if count == 0:\n",
    "                    attrs['Product_Image'] = srcset\n",
    "                    count += 1\n",
    "        \n",
    "        attrs['Price'] = soup.find('div',class_='rm-price__current').text.strip()\n",
    "        attrs['EAN'] = soup.find(class_='rm-product__dan').text.replace('Artikelnummer:', '').strip()\n",
    "        \n",
    "        headers = soup.find(class_='rm-accordion__detail').find_all(['h2', 'h4'])\n",
    "        for i in range(len(headers) - 1):\n",
    "            key = headers[i].text.strip()\n",
    "            value = \"\"\n",
    "            elements_between_headers = headers[i].find_all_next()\n",
    "            for element in elements_between_headers:\n",
    "                if element.name in ['h2', 'h4']:\n",
    "                    break\n",
    "                if element.name == 'ul':\n",
    "                    bullet_points = [li.text.strip() for li in element.find_all('li')]\n",
    "                    value += '\\n'.join(bullet_points)\n",
    "                else:\n",
    "                    value += element.text.strip() + '\\n'\n",
    "\n",
    "            attrs[key] = value.strip()\n",
    "        accordion_items = soup.find_all(class_='rm-accordion__detail')\n",
    "        for item in accordion_items:\n",
    "            header = item.find('h2').text.strip()\n",
    "            info_text = \"\"\n",
    "\n",
    "            table = item.find('table')\n",
    "            if table:\n",
    "                rows = table.find_all('tr')\n",
    "                for row in rows:\n",
    "                    if row.find_all('td') and row.find_all('td')[0].text:\n",
    "                        attrs[row.find_all('td')[0].text.replace('-', '').strip() + ' pro 100 g'] = row.find_all('td')[1].text\n",
    "                        attrs[row.find_all('td')[0].text.replace('-', '').strip() + ' pro 1 Portion'] = row.find_all('td')[2].text\n",
    "\n",
    "            paragraph = item.find('div', class_='rm-cms').find_all('p')\n",
    "            if paragraph:\n",
    "                for p in paragraph:\n",
    "                    paragraph_text = p.text.strip()\n",
    "                    info_text += ('\\n' if info_text else '') + paragraph_text\n",
    "\n",
    "            attrs[header] = info_text.strip()\n",
    "        attrs['Link'] = l\n",
    "        \n",
    "        # Append the extracted data to all_attrs and save to JSON\n",
    "        save_attrs_to_json(attrs)\n",
    "        time.sleep(0.25)\n",
    "    except:\n",
    "        continue\n"
   ]
  },
  {
   "cell_type": "code",
   "execution_count": 16,
   "metadata": {},
   "outputs": [
    {
     "data": {
      "text/plain": [
       "[{'Brand': 'Maybelline New York',\n",
       "  'Title': 'Puder Fit Me Matte + Poreless Nr. 120 Classic Ivory',\n",
       "  'Product_Image': 'https://www.rossmann.de/media-neu/104/MAM_10437250/MAM_10437250_SHOP_IMAGE_1.8.png?width=288&height=288&fit=bounds&auto=webp&format=webply&canvas=288,288&quality=40 1x,https://www.rossmann.de/media-neu/104/MAM_10437250/MAM_10437250_SHOP_IMAGE_1.8.png?width=288&height=288&fit=bounds&auto=webp&format=webply&canvas=432,432&dpr=1.5&quality=40 1.5x,https://www.rossmann.de/media-neu/104/MAM_10437250/MAM_10437250_SHOP_IMAGE_1.8.png?width=288&height=288&fit=bounds&auto=webp&format=webply&canvas=576,576&dpr=2&quality=40 2x,https://www.rossmann.de/media-neu/104/MAM_10437250/MAM_10437250_SHOP_IMAGE_1.8.png?width=288&height=288&fit=bounds&auto=webp&format=webply&canvas=864,864&dpr=3&quality=40 3x',\n",
       "  'EAN': '639392',\n",
       "  'Produktbeschreibung und -details': '*Verbrauchertest 61 Personen\\nMaybelline New York16, Place Vendôme, 75001 Paris, TSA 10007 F 92667 Asnieres Cedexwww.maybelline.de\\nItalien',\n",
       "  'Kontaktdaten': 'Maybelline New York16, Place Vendôme, 75001 Paris, TSA 10007 F 92667 Asnieres Cedexwww.maybelline.de',\n",
       "  'Inhaltsstoffe': 'Talc, Perlite Triisostearin, Phenyl Trimethicone, Magnesium Stearate, Caprylyl Glycol, [+/- May Contain CI 77891 / Titanium Dioxide CI 77491, CI 77492, CI 77499 / Iron Oxides], (F.I.L. D166492/3)',\n",
       "  'Link': 'https://www.rossmann.de/de/make-up-maybelline-new-york-puder-fit-me-matte--poreless-nr-120-classic-ivory/p/3600530751327'}]"
      ]
     },
     "execution_count": 16,
     "metadata": {},
     "output_type": "execute_result"
    }
   ],
   "source": [
    "all_attrs"
   ]
  },
  {
   "cell_type": "code",
   "execution_count": null,
   "metadata": {},
   "outputs": [],
   "source": []
  }
 ],
 "metadata": {
  "kernelspec": {
   "display_name": "Python 3 (ipykernel)",
   "language": "python",
   "name": "python3"
  },
  "language_info": {
   "codemirror_mode": {
    "name": "ipython",
    "version": 3
   },
   "file_extension": ".py",
   "mimetype": "text/x-python",
   "name": "python",
   "nbconvert_exporter": "python",
   "pygments_lexer": "ipython3",
   "version": "3.11.4"
  }
 },
 "nbformat": 4,
 "nbformat_minor": 2
}
